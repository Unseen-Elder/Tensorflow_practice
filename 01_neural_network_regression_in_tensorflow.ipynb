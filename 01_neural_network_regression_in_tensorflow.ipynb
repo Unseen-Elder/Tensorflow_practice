{
 "cells": [
  {
   "cell_type": "markdown",
   "metadata": {},
   "source": [
    "## introduction to regression with neural networks in tensorflow\n",
    "* there are many definations for regression problem but in our case, we are going to simplify it, predicting a number based on some other combination of variables"
   ]
  },
  {
   "cell_type": "code",
   "execution_count": 1,
   "metadata": {},
   "outputs": [
    {
     "name": "stdout",
     "output_type": "stream",
     "text": [
      "2.10.0\n"
     ]
    }
   ],
   "source": [
    "#import tensorflow\n",
    "import tensorflow as tf\n",
    "print(tf.__version__)"
   ]
  },
  {
   "cell_type": "code",
   "execution_count": 2,
   "metadata": {},
   "outputs": [
    {
     "data": {
      "text/plain": [
       "<matplotlib.collections.PathCollection at 0x2f495d2fd30>"
      ]
     },
     "execution_count": 2,
     "metadata": {},
     "output_type": "execute_result"
    },
    {
     "data": {
      "image/png": "[encoded data removed]",
      "text/plain": [
       "<Figure size 640x480 with 1 Axes>"
      ]
     },
     "metadata": {},
     "output_type": "display_data"
    }
   ],
   "source": [
    "import numpy as np\n",
    "import matplotlib.pyplot as plt\n",
    "\n",
    "#create features\n",
    "X= np.array([-7.0,-4.0,-1.0,2.0,5.0,8.0,11.0,14.0])\n",
    "\n",
    "#create labels\n",
    "y= np.array([3.0,6.0,9.0,12.0,15.0,18.0,21.0,24.0])\n",
    "\n",
    "#visualize it\n",
    "plt.scatter(X,y)\n"
   ]
  },
  {
   "cell_type": "code",
   "execution_count": 3,
   "metadata": {},
   "outputs": [
    {
     "data": {
      "text/plain": [
       "array([ True,  True,  True,  True,  True,  True,  True,  True])"
      ]
     },
     "execution_count": 3,
     "metadata": {},
     "output_type": "execute_result"
    }
   ],
   "source": [
    "y == X+10"
   ]
  },
  {
   "cell_type": "markdown",
   "metadata": {},
   "source": [
    "### input and output shapes"
   ]
  },
  {
   "cell_type": "code",
   "execution_count": 4,
   "metadata": {},
   "outputs": [
    {
     "data": {
      "text/plain": [
       "(<tf.Tensor: shape=(3,), dtype=string, numpy=array([b'bedroom', b'bathroom', b'garage'], dtype=object)>,\n",
       " <tf.Tensor: shape=(1,), dtype=int32, numpy=array([939700])>)"
      ]
     },
     "execution_count": 4,
     "metadata": {},
     "output_type": "execute_result"
    }
   ],
   "source": [
    "# Create a demo tensor for our housing price prediction problem\n",
    "house_info = tf.constant(['bedroom','bathroom','garage'])\n",
    "house_price= tf.constant([939700])\n",
    "\n",
    "house_info,house_price"
   ]
  },
  {
   "cell_type": "code",
   "execution_count": 5,
   "metadata": {},
   "outputs": [
    {
     "data": {
      "text/plain": [
       "(-7.0, 3.0)"
      ]
     },
     "execution_count": 5,
     "metadata": {},
     "output_type": "execute_result"
    }
   ],
   "source": [
    "X[0],y[0]"
   ]
  },
  {
   "cell_type": "code",
   "execution_count": 6,
   "metadata": {},
   "outputs": [
    {
     "data": {
      "text/plain": [
       "(-4.0, 6.0)"
      ]
     },
     "execution_count": 6,
     "metadata": {},
     "output_type": "execute_result"
    }
   ],
   "source": [
    "X[1],y[1]"
   ]
  },
  {
   "cell_type": "code",
   "execution_count": 7,
   "metadata": {},
   "outputs": [
    {
     "data": {
      "text/plain": [
       "((), ())"
      ]
     },
     "execution_count": 7,
     "metadata": {},
     "output_type": "execute_result"
    }
   ],
   "source": [
    "input_shape= X[0].shape\n",
    "output_shape=y[0].shape\n",
    "\n",
    "input_shape,output_shape"
   ]
  },
  {
   "cell_type": "code",
   "execution_count": 8,
   "metadata": {},
   "outputs": [
    {
     "data": {
      "text/plain": [
       "0"
      ]
     },
     "execution_count": 8,
     "metadata": {},
     "output_type": "execute_result"
    }
   ],
   "source": [
    "X[0].ndim"
   ]
  },
  {
   "cell_type": "code",
   "execution_count": 9,
   "metadata": {},
   "outputs": [
    {
     "data": {
      "text/plain": [
       "(<tf.Tensor: shape=(8,), dtype=float32, numpy=array([-7., -4., -1.,  2.,  5.,  8., 11., 14.], dtype=float32)>,\n",
       " <tf.Tensor: shape=(8,), dtype=float32, numpy=array([ 3.,  6.,  9., 12., 15., 18., 21., 24.], dtype=float32)>)"
      ]
     },
     "execution_count": 9,
     "metadata": {},
     "output_type": "execute_result"
    }
   ],
   "source": [
    "#turn our numpy arrays into tensors\n",
    "\n",
    "X=tf.cast(tf.constant(X),dtype=tf.float32)\n",
    "y=tf.cast(tf.constant(y),dtype=tf.float32)\n",
    "\n",
    "X,y"
   ]
  },
  {
   "cell_type": "code",
   "execution_count": 10,
   "metadata": {},
   "outputs": [
    {
     "data": {
      "text/plain": [
       "(TensorShape([]), TensorShape([]))"
      ]
     },
     "execution_count": 10,
     "metadata": {},
     "output_type": "execute_result"
    }
   ],
   "source": [
    "input_shape=X[0].shape\n",
    "output_shape=y[0].shape\n",
    "\n",
    "input_shape,output_shape"
   ]
  },
  {
   "cell_type": "markdown",
   "metadata": {},
   "source": [
    "### Steps in modelling with tensor flow\n",
    "1. **Create a model** -  define the input and output layers, as well as the hidden layers of a deep learning model.\n",
    "2. **Compiling a model** - define the loss function( in other words, the function will tells the error in our model) and the optimizer (tells our model how to improve the the patters it is learning) and evaluation matrix(what we can use to interpret the performance of our model).\n",
    "3. **Fitting a model** - letting the model try to find patters between X and y (features and labels)"
   ]
  },
  {
   "cell_type": "code",
   "execution_count": 11,
   "metadata": {},
   "outputs": [
    {
     "name": "stdout",
     "output_type": "stream",
     "text": [
      "Epoch 1/5\n",
      "1/1 [==============================] - 1s 598ms/step - loss: 15.7245 - mae: 15.7245\n",
      "Epoch 2/5\n",
      "1/1 [==============================] - 0s 4ms/step - loss: 15.4433 - mae: 15.4433\n",
      "Epoch 3/5\n",
      "1/1 [==============================] - 0s 9ms/step - loss: 15.1620 - mae: 15.1620\n",
      "Epoch 4/5\n",
      "1/1 [==============================] - 0s 9ms/step - loss: 14.9093 - mae: 14.9093\n",
      "Epoch 5/5\n",
      "1/1 [==============================] - 0s 5ms/step - loss: 14.7768 - mae: 14.7768\n"
     ]
    },
    {
     "data": {
      "text/plain": [
       "<keras.callbacks.History at 0x2f495f630d0>"
      ]
     },
     "execution_count": 11,
     "metadata": {},
     "output_type": "execute_result"
    }
   ],
   "source": [
    "# set random seed\n",
    "tf.random.set_seed(42)\n",
    "\n",
    "# 1. create a model using the sequential API\n",
    "model = tf.keras.Sequential([\n",
    "    tf.keras.layers.Dense(1)\n",
    "])\n",
    "\n",
    "'''model = tf.keras.Sequential([\n",
    "])\n",
    "model.add(tf.keras.layers.Dense(1))\n",
    "'''\n",
    "\n",
    "#compiling the model\n",
    "model.compile(loss=tf.keras.losses.mae,\n",
    "                optimizer=tf.keras.optimizers.SGD(),\n",
    "                metrics=[\"mae\"])\n",
    "\n",
    "'''\n",
    "model.compile(loss=\"mae\",\n",
    "                optimizer=\"sgd\",\n",
    "                metrics=[\"mae\"])\n",
    "'''\n",
    "\n",
    "model.fit(tf.expand_dims(X, axis=-1), y, epochs=5)"
   ]
  },
  {
   "cell_type": "code",
   "execution_count": 12,
   "metadata": {},
   "outputs": [
    {
     "name": "stdout",
     "output_type": "stream",
     "text": [
      "1/1 [==============================] - 0s 172ms/step\n"
     ]
    },
    {
     "data": {
      "text/plain": [
       "array([[-5.7217307]], dtype=float32)"
      ]
     },
     "execution_count": 12,
     "metadata": {},
     "output_type": "execute_result"
    }
   ],
   "source": [
    "#try and predict using our model\n",
    "model.predict([17.0])"
   ]
  },
  {
   "cell_type": "markdown",
   "metadata": {},
   "source": [
    "### Improving our model\n",
    "\n",
    "we can improve our model by altering the steps we took to create a model\n",
    "\n",
    "1. **Creating a model**- here we might add more layers increase the number of hidden units(all called neurons) within each of the hidden layers,change the activation function of each layer\n",
    "2. **Compiling a model**-here we might change the optimization function or perheps the **learning rate** of the optimization function\n",
    "3. **Fitting a model**- here we might fit a model for more **epochs** (give the model more examples to learn from)"
   ]
  },
  {
   "cell_type": "code",
   "execution_count": 13,
   "metadata": {},
   "outputs": [
    {
     "name": "stdout",
     "output_type": "stream",
     "text": [
      "Epoch 1/100\n",
      "1/1 [==============================] - 0s 462ms/step - loss: 11.9873 - mae: 11.9873\n",
      "Epoch 2/100\n",
      "1/1 [==============================] - 0s 8ms/step - loss: 11.8548 - mae: 11.8548\n",
      "Epoch 3/100\n",
      "1/1 [==============================] - 0s 7ms/step - loss: 11.7223 - mae: 11.7223\n",
      "Epoch 4/100\n",
      "1/1 [==============================] - 0s 7ms/step - loss: 11.5898 - mae: 11.5898\n",
      "Epoch 5/100\n",
      "1/1 [==============================] - 0s 4ms/step - loss: 11.4573 - mae: 11.4573\n",
      "Epoch 6/100\n",
      "1/1 [==============================] - 0s 12ms/step - loss: 11.3248 - mae: 11.3248\n",
      "Epoch 7/100\n",
      "1/1 [==============================] - 0s 9ms/step - loss: 11.1923 - mae: 11.1923\n",
      "Epoch 8/100\n",
      "1/1 [==============================] - 0s 5ms/step - loss: 11.0598 - mae: 11.0598\n",
      "Epoch 9/100\n",
      "1/1 [==============================] - 0s 14ms/step - loss: 10.9273 - mae: 10.9273\n",
      "Epoch 10/100\n",
      "1/1 [==============================] - 0s 10ms/step - loss: 10.7948 - mae: 10.7948\n",
      "Epoch 11/100\n",
      "1/1 [==============================] - 0s 6ms/step - loss: 10.6623 - mae: 10.6623\n",
      "Epoch 12/100\n",
      "1/1 [==============================] - 0s 8ms/step - loss: 10.5298 - mae: 10.5298\n",
      "Epoch 13/100\n",
      "1/1 [==============================] - 0s 8ms/step - loss: 10.3973 - mae: 10.3973\n",
      "Epoch 14/100\n",
      "1/1 [==============================] - 0s 5ms/step - loss: 10.2648 - mae: 10.2648\n",
      "Epoch 15/100\n",
      "1/1 [==============================] - 0s 13ms/step - loss: 10.1323 - mae: 10.1323\n",
      "Epoch 16/100\n",
      "1/1 [==============================] - 0s 10ms/step - loss: 9.9998 - mae: 9.9998\n",
      "Epoch 17/100\n",
      "1/1 [==============================] - 0s 8ms/step - loss: 9.8673 - mae: 9.8673\n",
      "Epoch 18/100\n",
      "1/1 [==============================] - 0s 5ms/step - loss: 9.7348 - mae: 9.7348\n",
      "Epoch 19/100\n",
      "1/1 [==============================] - 0s 8ms/step - loss: 9.6023 - mae: 9.6023\n",
      "Epoch 20/100\n",
      "1/1 [==============================] - 0s 4ms/step - loss: 9.4698 - mae: 9.4698\n",
      "Epoch 21/100\n",
      "1/1 [==============================] - 0s 4ms/step - loss: 9.3373 - mae: 9.3373\n",
      "Epoch 22/100\n",
      "1/1 [==============================] - 0s 8ms/step - loss: 9.2048 - mae: 9.2048\n",
      "Epoch 23/100\n",
      "1/1 [==============================] - 0s 4ms/step - loss: 9.0723 - mae: 9.0723\n",
      "Epoch 24/100\n",
      "1/1 [==============================] - 0s 8ms/step - loss: 8.9398 - mae: 8.9398\n",
      "Epoch 25/100\n",
      "1/1 [==============================] - 0s 5ms/step - loss: 8.8073 - mae: 8.8073\n",
      "Epoch 26/100\n",
      "1/1 [==============================] - 0s 5ms/step - loss: 8.6748 - mae: 8.6748\n",
      "Epoch 27/100\n",
      "1/1 [==============================] - 0s 10ms/step - loss: 8.5423 - mae: 8.5423\n",
      "Epoch 28/100\n",
      "1/1 [==============================] - 0s 5ms/step - loss: 8.4098 - mae: 8.4098\n",
      "Epoch 29/100\n",
      "1/1 [==============================] - 0s 5ms/step - loss: 8.2773 - mae: 8.2773\n",
      "Epoch 30/100\n",
      "1/1 [==============================] - 0s 11ms/step - loss: 8.1448 - mae: 8.1448\n",
      "Epoch 31/100\n",
      "1/1 [==============================] - 0s 5ms/step - loss: 8.0123 - mae: 8.0123\n",
      "Epoch 32/100\n",
      "1/1 [==============================] - 0s 7ms/step - loss: 7.8798 - mae: 7.8798\n",
      "Epoch 33/100\n",
      "1/1 [==============================] - 0s 9ms/step - loss: 7.7473 - mae: 7.7473\n",
      "Epoch 34/100\n",
      "1/1 [==============================] - 0s 17ms/step - loss: 7.6148 - mae: 7.6148\n",
      "Epoch 35/100\n",
      "1/1 [==============================] - 0s 10ms/step - loss: 7.4823 - mae: 7.4823\n",
      "Epoch 36/100\n",
      "1/1 [==============================] - 0s 10ms/step - loss: 7.3498 - mae: 7.3498\n",
      "Epoch 37/100\n",
      "1/1 [==============================] - 0s 12ms/step - loss: 7.2300 - mae: 7.2300\n",
      "Epoch 38/100\n",
      "1/1 [==============================] - 0s 9ms/step - loss: 7.2244 - mae: 7.2244\n",
      "Epoch 39/100\n",
      "1/1 [==============================] - 0s 11ms/step - loss: 7.2187 - mae: 7.2187\n",
      "Epoch 40/100\n",
      "1/1 [==============================] - 0s 7ms/step - loss: 7.2131 - mae: 7.2131\n",
      "Epoch 41/100\n",
      "1/1 [==============================] - 0s 11ms/step - loss: 7.2075 - mae: 7.2075\n",
      "Epoch 42/100\n",
      "1/1 [==============================] - 0s 7ms/step - loss: 7.2019 - mae: 7.2019\n",
      "Epoch 43/100\n",
      "1/1 [==============================] - 0s 10ms/step - loss: 7.1962 - mae: 7.1962\n",
      "Epoch 44/100\n",
      "1/1 [==============================] - 0s 11ms/step - loss: 7.1906 - mae: 7.1906\n",
      "Epoch 45/100\n",
      "1/1 [==============================] - 0s 13ms/step - loss: 7.1850 - mae: 7.1850\n",
      "Epoch 46/100\n",
      "1/1 [==============================] - 0s 11ms/step - loss: 7.1794 - mae: 7.1794\n",
      "Epoch 47/100\n",
      "1/1 [==============================] - 0s 8ms/step - loss: 7.1738 - mae: 7.1738\n",
      "Epoch 48/100\n",
      "1/1 [==============================] - 0s 7ms/step - loss: 7.1681 - mae: 7.1681\n",
      "Epoch 49/100\n",
      "1/1 [==============================] - 0s 8ms/step - loss: 7.1625 - mae: 7.1625\n",
      "Epoch 50/100\n",
      "1/1 [==============================] - 0s 11ms/step - loss: 7.1569 - mae: 7.1569\n",
      "Epoch 51/100\n",
      "1/1 [==============================] - 0s 12ms/step - loss: 7.1512 - mae: 7.1512\n",
      "Epoch 52/100\n",
      "1/1 [==============================] - 0s 10ms/step - loss: 7.1456 - mae: 7.1456\n",
      "Epoch 53/100\n",
      "1/1 [==============================] - 0s 10ms/step - loss: 7.1400 - mae: 7.1400\n",
      "Epoch 54/100\n",
      "1/1 [==============================] - 0s 8ms/step - loss: 7.1344 - mae: 7.1344\n",
      "Epoch 55/100\n",
      "1/1 [==============================] - 0s 5ms/step - loss: 7.1287 - mae: 7.1287\n",
      "Epoch 56/100\n",
      "1/1 [==============================] - 0s 8ms/step - loss: 7.1231 - mae: 7.1231\n",
      "Epoch 57/100\n",
      "1/1 [==============================] - 0s 7ms/step - loss: 7.1175 - mae: 7.1175\n",
      "Epoch 58/100\n",
      "1/1 [==============================] - 0s 6ms/step - loss: 7.1119 - mae: 7.1119\n",
      "Epoch 59/100\n",
      "1/1 [==============================] - 0s 8ms/step - loss: 7.1063 - mae: 7.1063\n",
      "Epoch 60/100\n",
      "1/1 [==============================] - 0s 13ms/step - loss: 7.1006 - mae: 7.1006\n",
      "Epoch 61/100\n",
      "1/1 [==============================] - 0s 8ms/step - loss: 7.0950 - mae: 7.0950\n",
      "Epoch 62/100\n",
      "1/1 [==============================] - 0s 11ms/step - loss: 7.0894 - mae: 7.0894\n",
      "Epoch 63/100\n",
      "1/1 [==============================] - 0s 12ms/step - loss: 7.0838 - mae: 7.0838\n",
      "Epoch 64/100\n",
      "1/1 [==============================] - 0s 12ms/step - loss: 7.0781 - mae: 7.0781\n",
      "Epoch 65/100\n",
      "1/1 [==============================] - 0s 8ms/step - loss: 7.0725 - mae: 7.0725\n",
      "Epoch 66/100\n",
      "1/1 [==============================] - 0s 10ms/step - loss: 7.0669 - mae: 7.0669\n",
      "Epoch 67/100\n",
      "1/1 [==============================] - 0s 5ms/step - loss: 7.0612 - mae: 7.0612\n",
      "Epoch 68/100\n",
      "1/1 [==============================] - 0s 6ms/step - loss: 7.0556 - mae: 7.0556\n",
      "Epoch 69/100\n",
      "1/1 [==============================] - 0s 14ms/step - loss: 7.0500 - mae: 7.0500\n",
      "Epoch 70/100\n",
      "1/1 [==============================] - 0s 9ms/step - loss: 7.0444 - mae: 7.0444\n",
      "Epoch 71/100\n",
      "1/1 [==============================] - 0s 9ms/step - loss: 7.0387 - mae: 7.0387\n",
      "Epoch 72/100\n",
      "1/1 [==============================] - 0s 8ms/step - loss: 7.0331 - mae: 7.0331\n",
      "Epoch 73/100\n",
      "1/1 [==============================] - 0s 7ms/step - loss: 7.0275 - mae: 7.0275\n",
      "Epoch 74/100\n",
      "1/1 [==============================] - 0s 53ms/step - loss: 7.0219 - mae: 7.0219\n",
      "Epoch 75/100\n",
      "1/1 [==============================] - 0s 11ms/step - loss: 7.0163 - mae: 7.0163\n",
      "Epoch 76/100\n",
      "1/1 [==============================] - 0s 5ms/step - loss: 7.0106 - mae: 7.0106\n",
      "Epoch 77/100\n",
      "1/1 [==============================] - 0s 6ms/step - loss: 7.0050 - mae: 7.0050\n",
      "Epoch 78/100\n",
      "1/1 [==============================] - 0s 10ms/step - loss: 6.9994 - mae: 6.9994\n",
      "Epoch 79/100\n",
      "1/1 [==============================] - 0s 20ms/step - loss: 6.9938 - mae: 6.9938\n",
      "Epoch 80/100\n",
      "1/1 [==============================] - 0s 6ms/step - loss: 6.9881 - mae: 6.9881\n",
      "Epoch 81/100\n",
      "1/1 [==============================] - 0s 7ms/step - loss: 6.9825 - mae: 6.9825\n",
      "Epoch 82/100\n",
      "1/1 [==============================] - 0s 4ms/step - loss: 6.9769 - mae: 6.9769\n",
      "Epoch 83/100\n",
      "1/1 [==============================] - 0s 8ms/step - loss: 6.9713 - mae: 6.9713\n",
      "Epoch 84/100\n",
      "1/1 [==============================] - 0s 8ms/step - loss: 6.9656 - mae: 6.9656\n",
      "Epoch 85/100\n",
      "1/1 [==============================] - 0s 5ms/step - loss: 6.9600 - mae: 6.9600\n",
      "Epoch 86/100\n",
      "1/1 [==============================] - 0s 11ms/step - loss: 6.9544 - mae: 6.9544\n",
      "Epoch 87/100\n",
      "1/1 [==============================] - 0s 9ms/step - loss: 6.9488 - mae: 6.9488\n",
      "Epoch 88/100\n",
      "1/1 [==============================] - 0s 4ms/step - loss: 6.9431 - mae: 6.9431\n",
      "Epoch 89/100\n",
      "1/1 [==============================] - 0s 10ms/step - loss: 6.9375 - mae: 6.9375\n",
      "Epoch 90/100\n",
      "1/1 [==============================] - 0s 5ms/step - loss: 6.9319 - mae: 6.9319\n",
      "Epoch 91/100\n",
      "1/1 [==============================] - 0s 6ms/step - loss: 6.9263 - mae: 6.9263\n",
      "Epoch 92/100\n",
      "1/1 [==============================] - 0s 9ms/step - loss: 6.9206 - mae: 6.9206\n",
      "Epoch 93/100\n",
      "1/1 [==============================] - 0s 5ms/step - loss: 6.9150 - mae: 6.9150\n",
      "Epoch 94/100\n",
      "1/1 [==============================] - 0s 7ms/step - loss: 6.9094 - mae: 6.9094\n",
      "Epoch 95/100\n",
      "1/1 [==============================] - 0s 6ms/step - loss: 6.9038 - mae: 6.9038\n",
      "Epoch 96/100\n",
      "1/1 [==============================] - 0s 5ms/step - loss: 6.8981 - mae: 6.8981\n",
      "Epoch 97/100\n",
      "1/1 [==============================] - 0s 7ms/step - loss: 6.8925 - mae: 6.8925\n",
      "Epoch 98/100\n",
      "1/1 [==============================] - 0s 4ms/step - loss: 6.8869 - mae: 6.8869\n",
      "Epoch 99/100\n",
      "1/1 [==============================] - 0s 10ms/step - loss: 6.8813 - mae: 6.8813\n",
      "Epoch 100/100\n",
      "1/1 [==============================] - 0s 5ms/step - loss: 6.8756 - mae: 6.8756\n"
     ]
    },
    {
     "data": {
      "text/plain": [
       "<keras.callbacks.History at 0x2f4991ef430>"
      ]
     },
     "execution_count": 13,
     "metadata": {},
     "output_type": "execute_result"
    }
   ],
   "source": [
    "# set random seed\n",
    "tf.random.set_seed(42)\n",
    "\n",
    "# 1. create a model using the sequential API\n",
    "model = tf.keras.Sequential([\n",
    "    tf.keras.layers.Dense(1)\n",
    "])\n",
    "\n",
    "#compiling the model\n",
    "model.compile(loss=tf.keras.losses.mae,\n",
    "                optimizer=tf.keras.optimizers.SGD(),\n",
    "                metrics=[\"mae\"])\n",
    "                \n",
    "model.fit(tf.expand_dims(X, axis=-1), y, epochs=100)"
   ]
  },
  {
   "cell_type": "code",
   "execution_count": 14,
   "metadata": {},
   "outputs": [
    {
     "name": "stdout",
     "output_type": "stream",
     "text": [
      "1/1 [==============================] - 0s 93ms/step\n"
     ]
    },
    {
     "data": {
      "text/plain": [
       "array([[29.60756]], dtype=float32)"
      ]
     },
     "execution_count": 14,
     "metadata": {},
     "output_type": "execute_result"
    }
   ],
   "source": [
    "model.predict([17.0])"
   ]
  },
  {
   "cell_type": "code",
   "execution_count": 15,
   "metadata": {},
   "outputs": [
    {
     "name": "stdout",
     "output_type": "stream",
     "text": [
      "Epoch 1/100\n",
      "1/1 [==============================] - 1s 501ms/step - loss: 10.3282 - mae: 10.3282\n",
      "Epoch 2/100\n",
      "1/1 [==============================] - 0s 6ms/step - loss: 9.8600 - mae: 9.8600\n",
      "Epoch 3/100\n",
      "1/1 [==============================] - 0s 9ms/step - loss: 9.3555 - mae: 9.3555\n",
      "Epoch 4/100\n",
      "1/1 [==============================] - 0s 4ms/step - loss: 8.8105 - mae: 8.8105\n",
      "Epoch 5/100\n",
      "1/1 [==============================] - 0s 6ms/step - loss: 8.2207 - mae: 8.2207\n",
      "Epoch 6/100\n",
      "1/1 [==============================] - 0s 5ms/step - loss: 7.5809 - mae: 7.5809\n",
      "Epoch 7/100\n",
      "1/1 [==============================] - 0s 7ms/step - loss: 6.8859 - mae: 6.8859\n",
      "Epoch 8/100\n",
      "1/1 [==============================] - 0s 8ms/step - loss: 6.1296 - mae: 6.1296\n",
      "Epoch 9/100\n",
      "1/1 [==============================] - 0s 4ms/step - loss: 5.3054 - mae: 5.3054\n",
      "Epoch 10/100\n",
      "1/1 [==============================] - 0s 9ms/step - loss: 4.4063 - mae: 4.4063\n",
      "Epoch 11/100\n",
      "1/1 [==============================] - 0s 9ms/step - loss: 4.0291 - mae: 4.0291\n",
      "Epoch 12/100\n",
      "1/1 [==============================] - 0s 8ms/step - loss: 3.9671 - mae: 3.9671\n",
      "Epoch 13/100\n",
      "1/1 [==============================] - 0s 7ms/step - loss: 3.9312 - mae: 3.9312\n",
      "Epoch 14/100\n",
      "1/1 [==============================] - 0s 7ms/step - loss: 3.9805 - mae: 3.9805\n",
      "Epoch 15/100\n",
      "1/1 [==============================] - 0s 5ms/step - loss: 3.9166 - mae: 3.9166\n",
      "Epoch 16/100\n",
      "1/1 [==============================] - 0s 12ms/step - loss: 3.9713 - mae: 3.9713\n",
      "Epoch 17/100\n",
      "1/1 [==============================] - 0s 9ms/step - loss: 3.9203 - mae: 3.9203\n",
      "Epoch 18/100\n",
      "1/1 [==============================] - 0s 5ms/step - loss: 3.9449 - mae: 3.9449\n",
      "Epoch 19/100\n",
      "1/1 [==============================] - 0s 9ms/step - loss: 3.9241 - mae: 3.9241\n",
      "Epoch 20/100\n",
      "1/1 [==============================] - 0s 5ms/step - loss: 3.9251 - mae: 3.9251\n",
      "Epoch 21/100\n",
      "1/1 [==============================] - 0s 5ms/step - loss: 3.9420 - mae: 3.9420\n",
      "Epoch 22/100\n",
      "1/1 [==============================] - 0s 8ms/step - loss: 3.9048 - mae: 3.9048\n",
      "Epoch 23/100\n",
      "1/1 [==============================] - 0s 5ms/step - loss: 3.9460 - mae: 3.9460\n",
      "Epoch 24/100\n",
      "1/1 [==============================] - 0s 7ms/step - loss: 3.8826 - mae: 3.8826\n",
      "Epoch 25/100\n",
      "1/1 [==============================] - 0s 5ms/step - loss: 3.9445 - mae: 3.9445\n",
      "Epoch 26/100\n",
      "1/1 [==============================] - 0s 15ms/step - loss: 3.8865 - mae: 3.8865\n",
      "Epoch 27/100\n",
      "1/1 [==============================] - 0s 6ms/step - loss: 3.9178 - mae: 3.9178\n",
      "Epoch 28/100\n",
      "1/1 [==============================] - 0s 8ms/step - loss: 3.8990 - mae: 3.8990\n",
      "Epoch 29/100\n",
      "1/1 [==============================] - 0s 9ms/step - loss: 3.9042 - mae: 3.9042\n",
      "Epoch 30/100\n",
      "1/1 [==============================] - 0s 6ms/step - loss: 3.9085 - mae: 3.9085\n",
      "Epoch 31/100\n",
      "1/1 [==============================] - 0s 5ms/step - loss: 3.8771 - mae: 3.8771\n",
      "Epoch 32/100\n",
      "1/1 [==============================] - 0s 8ms/step - loss: 3.9128 - mae: 3.9128\n",
      "Epoch 33/100\n",
      "1/1 [==============================] - 0s 4ms/step - loss: 3.8499 - mae: 3.8499\n",
      "Epoch 34/100\n",
      "1/1 [==============================] - 0s 8ms/step - loss: 3.9171 - mae: 3.9171\n",
      "Epoch 35/100\n",
      "1/1 [==============================] - 0s 9ms/step - loss: 3.8538 - mae: 3.8538\n",
      "Epoch 36/100\n",
      "1/1 [==============================] - 0s 5ms/step - loss: 3.8999 - mae: 3.8999\n",
      "Epoch 37/100\n",
      "1/1 [==============================] - 0s 7ms/step - loss: 3.8719 - mae: 3.8719\n",
      "Epoch 38/100\n",
      "1/1 [==============================] - 0s 9ms/step - loss: 3.8755 - mae: 3.8755\n",
      "Epoch 39/100\n",
      "1/1 [==============================] - 0s 4ms/step - loss: 3.8762 - mae: 3.8762\n",
      "Epoch 40/100\n",
      "1/1 [==============================] - 0s 8ms/step - loss: 3.8482 - mae: 3.8482\n",
      "Epoch 41/100\n",
      "1/1 [==============================] - 0s 8ms/step - loss: 3.8806 - mae: 3.8806\n",
      "Epoch 42/100\n",
      "1/1 [==============================] - 0s 5ms/step - loss: 3.8207 - mae: 3.8207\n",
      "Epoch 43/100\n",
      "1/1 [==============================] - 0s 17ms/step - loss: 3.8852 - mae: 3.8852\n",
      "Epoch 44/100\n",
      "1/1 [==============================] - 0s 6ms/step - loss: 3.8341 - mae: 3.8341\n",
      "Epoch 45/100\n",
      "1/1 [==============================] - 0s 11ms/step - loss: 3.8730 - mae: 3.8730\n",
      "Epoch 46/100\n",
      "1/1 [==============================] - 0s 5ms/step - loss: 3.8405 - mae: 3.8405\n",
      "Epoch 47/100\n",
      "1/1 [==============================] - 0s 7ms/step - loss: 3.8455 - mae: 3.8455\n",
      "Epoch 48/100\n",
      "1/1 [==============================] - 0s 11ms/step - loss: 3.8450 - mae: 3.8450\n",
      "Epoch 49/100\n",
      "1/1 [==============================] - 0s 10ms/step - loss: 3.8179 - mae: 3.8179\n",
      "Epoch 50/100\n",
      "1/1 [==============================] - 0s 5ms/step - loss: 3.8496 - mae: 3.8496\n",
      "Epoch 51/100\n",
      "1/1 [==============================] - 0s 9ms/step - loss: 3.7902 - mae: 3.7902\n",
      "Epoch 52/100\n",
      "1/1 [==============================] - 0s 9ms/step - loss: 3.8675 - mae: 3.8675\n",
      "Epoch 53/100\n",
      "1/1 [==============================] - 0s 14ms/step - loss: 3.8056 - mae: 3.8056\n",
      "Epoch 54/100\n",
      "1/1 [==============================] - 0s 6ms/step - loss: 3.8420 - mae: 3.8420\n",
      "Epoch 55/100\n",
      "1/1 [==============================] - 0s 5ms/step - loss: 3.8102 - mae: 3.8102\n",
      "Epoch 56/100\n",
      "1/1 [==============================] - 0s 11ms/step - loss: 3.8143 - mae: 3.8143\n",
      "Epoch 57/100\n",
      "1/1 [==============================] - 0s 8ms/step - loss: 3.8149 - mae: 3.8149\n",
      "Epoch 58/100\n",
      "1/1 [==============================] - 0s 8ms/step - loss: 3.7864 - mae: 3.7864\n",
      "Epoch 59/100\n",
      "1/1 [==============================] - 0s 6ms/step - loss: 3.8208 - mae: 3.8208\n",
      "Epoch 60/100\n",
      "1/1 [==============================] - 0s 13ms/step - loss: 3.7716 - mae: 3.7716\n",
      "Epoch 61/100\n",
      "1/1 [==============================] - 0s 11ms/step - loss: 3.8385 - mae: 3.8385\n",
      "Epoch 62/100\n",
      "1/1 [==============================] - 0s 10ms/step - loss: 3.7761 - mae: 3.7761\n",
      "Epoch 63/100\n",
      "1/1 [==============================] - 0s 7ms/step - loss: 3.8097 - mae: 3.8097\n",
      "Epoch 64/100\n",
      "1/1 [==============================] - 0s 8ms/step - loss: 3.7809 - mae: 3.7809\n",
      "Epoch 65/100\n",
      "1/1 [==============================] - 0s 7ms/step - loss: 3.7817 - mae: 3.7817\n",
      "Epoch 66/100\n",
      "1/1 [==============================] - 0s 4ms/step - loss: 3.7858 - mae: 3.7858\n",
      "Epoch 67/100\n",
      "1/1 [==============================] - 0s 10ms/step - loss: 3.7562 - mae: 3.7562\n",
      "Epoch 68/100\n",
      "1/1 [==============================] - 0s 5ms/step - loss: 3.8047 - mae: 3.8047\n",
      "Epoch 69/100\n",
      "1/1 [==============================] - 0s 7ms/step - loss: 3.7429 - mae: 3.7429\n",
      "Epoch 70/100\n",
      "1/1 [==============================] - 0s 9ms/step - loss: 3.8043 - mae: 3.8043\n",
      "Epoch 71/100\n",
      "1/1 [==============================] - 0s 6ms/step - loss: 3.7478 - mae: 3.7478\n",
      "Epoch 72/100\n",
      "1/1 [==============================] - 0s 7ms/step - loss: 3.7761 - mae: 3.7761\n",
      "Epoch 73/100\n",
      "1/1 [==============================] - 0s 7ms/step - loss: 3.7527 - mae: 3.7527\n",
      "Epoch 74/100\n",
      "1/1 [==============================] - 0s 7ms/step - loss: 3.7478 - mae: 3.7478\n",
      "Epoch 75/100\n",
      "1/1 [==============================] - 0s 5ms/step - loss: 3.7615 - mae: 3.7615\n",
      "Epoch 76/100\n",
      "1/1 [==============================] - 0s 7ms/step - loss: 3.7325 - mae: 3.7325\n",
      "Epoch 77/100\n",
      "1/1 [==============================] - 0s 6ms/step - loss: 3.7769 - mae: 3.7769\n",
      "Epoch 78/100\n",
      "1/1 [==============================] - 0s 12ms/step - loss: 3.7153 - mae: 3.7153\n",
      "Epoch 79/100\n",
      "1/1 [==============================] - 0s 10ms/step - loss: 3.7697 - mae: 3.7697\n",
      "Epoch 80/100\n",
      "1/1 [==============================] - 0s 8ms/step - loss: 3.7204 - mae: 3.7204\n",
      "Epoch 81/100\n",
      "1/1 [==============================] - 0s 6ms/step - loss: 3.7412 - mae: 3.7412\n",
      "Epoch 82/100\n",
      "1/1 [==============================] - 0s 9ms/step - loss: 3.7256 - mae: 3.7256\n",
      "Epoch 83/100\n",
      "1/1 [==============================] - 0s 6ms/step - loss: 3.7177 - mae: 3.7177\n",
      "Epoch 84/100\n",
      "1/1 [==============================] - 0s 5ms/step - loss: 3.7447 - mae: 3.7447\n",
      "Epoch 85/100\n",
      "1/1 [==============================] - 0s 8ms/step - loss: 3.6969 - mae: 3.6969\n",
      "Epoch 86/100\n",
      "1/1 [==============================] - 0s 5ms/step - loss: 3.7501 - mae: 3.7501\n",
      "Epoch 87/100\n",
      "1/1 [==============================] - 0s 7ms/step - loss: 3.6887 - mae: 3.6887\n",
      "Epoch 88/100\n",
      "1/1 [==============================] - 0s 5ms/step - loss: 3.7338 - mae: 3.7338\n",
      "Epoch 89/100\n",
      "1/1 [==============================] - 0s 6ms/step - loss: 3.6940 - mae: 3.6940\n",
      "Epoch 90/100\n",
      "1/1 [==============================] - 0s 7ms/step - loss: 3.7050 - mae: 3.7050\n",
      "Epoch 91/100\n",
      "1/1 [==============================] - 0s 5ms/step - loss: 3.7052 - mae: 3.7052\n",
      "Epoch 92/100\n",
      "1/1 [==============================] - 0s 9ms/step - loss: 3.6892 - mae: 3.6892\n",
      "Epoch 93/100\n",
      "1/1 [==============================] - 0s 4ms/step - loss: 3.7187 - mae: 3.7187\n",
      "Epoch 94/100\n",
      "1/1 [==============================] - 0s 4ms/step - loss: 3.6600 - mae: 3.6600\n",
      "Epoch 95/100\n",
      "1/1 [==============================] - 0s 12ms/step - loss: 3.7243 - mae: 3.7243\n",
      "Epoch 96/100\n",
      "1/1 [==============================] - 0s 6ms/step - loss: 3.6631 - mae: 3.6631\n",
      "Epoch 97/100\n",
      "1/1 [==============================] - 0s 5ms/step - loss: 3.6965 - mae: 3.6965\n",
      "Epoch 98/100\n",
      "1/1 [==============================] - 0s 8ms/step - loss: 3.6685 - mae: 3.6685\n",
      "Epoch 99/100\n",
      "1/1 [==============================] - 0s 7ms/step - loss: 3.6745 - mae: 3.6745\n",
      "Epoch 100/100\n",
      "1/1 [==============================] - 0s 5ms/step - loss: 3.6880 - mae: 3.6880\n"
     ]
    },
    {
     "data": {
      "text/plain": [
       "<keras.callbacks.History at 0x2f49929cac0>"
      ]
     },
     "execution_count": 15,
     "metadata": {},
     "output_type": "execute_result"
    }
   ],
   "source": [
    "# set random seed\n",
    "tf.random.set_seed(42)\n",
    "\n",
    "# create a model\n",
    "model = tf.keras.Sequential([\n",
    "    tf.keras.layers.Dense(10,activation=\"relu\"),\n",
    "    tf.keras.layers.Dense(1)\n",
    "])\n",
    "\n",
    "\n",
    "#compiling the model\n",
    "\n",
    "model.compile(loss=\"mae\",optimizer=\"sgd\",metrics=[\"mae\"])\n",
    "\n",
    "model.fit(tf.expand_dims(X,axis=-1),y,epochs=100)"
   ]
  },
  {
   "cell_type": "code",
   "execution_count": 16,
   "metadata": {},
   "outputs": [
    {
     "name": "stdout",
     "output_type": "stream",
     "text": [
      "1/1 [==============================] - 0s 120ms/step\n"
     ]
    },
    {
     "data": {
      "text/plain": [
       "array([[31.755283]], dtype=float32)"
      ]
     },
     "execution_count": 16,
     "metadata": {},
     "output_type": "execute_result"
    }
   ],
   "source": [
    "model.predict([17.0]) # even though the loss is less but still our predicted value is further away from what was predicted in last model\n",
    "# this is due to overfitting"
   ]
  },
  {
   "cell_type": "code",
   "execution_count": 17,
   "metadata": {},
   "outputs": [
    {
     "name": "stdout",
     "output_type": "stream",
     "text": [
      "Epoch 1/100\n",
      "1/1 [==============================] - 1s 530ms/step - loss: 14.7300 - mae: 14.7300\n",
      "Epoch 2/100\n",
      "1/1 [==============================] - 0s 6ms/step - loss: 14.5469 - mae: 14.5469\n",
      "Epoch 3/100\n",
      "1/1 [==============================] - 0s 5ms/step - loss: 14.3790 - mae: 14.3790\n",
      "Epoch 4/100\n",
      "1/1 [==============================] - 0s 7ms/step - loss: 14.2239 - mae: 14.2239\n",
      "Epoch 5/100\n",
      "1/1 [==============================] - 0s 9ms/step - loss: 14.0793 - mae: 14.0793\n",
      "Epoch 6/100\n",
      "1/1 [==============================] - 0s 5ms/step - loss: 13.9433 - mae: 13.9433\n",
      "Epoch 7/100\n",
      "1/1 [==============================] - 0s 8ms/step - loss: 13.8144 - mae: 13.8144\n",
      "Epoch 8/100\n",
      "1/1 [==============================] - 0s 8ms/step - loss: 13.6910 - mae: 13.6910\n",
      "Epoch 9/100\n",
      "1/1 [==============================] - 0s 5ms/step - loss: 13.5718 - mae: 13.5718\n",
      "Epoch 10/100\n",
      "1/1 [==============================] - 0s 9ms/step - loss: 13.4563 - mae: 13.4563\n",
      "Epoch 11/100\n",
      "1/1 [==============================] - 0s 4ms/step - loss: 13.3451 - mae: 13.3451\n",
      "Epoch 12/100\n",
      "1/1 [==============================] - 0s 6ms/step - loss: 13.2417 - mae: 13.2417\n",
      "Epoch 13/100\n",
      "1/1 [==============================] - 0s 6ms/step - loss: 13.1384 - mae: 13.1384\n",
      "Epoch 14/100\n",
      "1/1 [==============================] - 0s 5ms/step - loss: 13.0344 - mae: 13.0344\n",
      "Epoch 15/100\n",
      "1/1 [==============================] - 0s 7ms/step - loss: 12.9286 - mae: 12.9286\n",
      "Epoch 16/100\n",
      "1/1 [==============================] - 0s 4ms/step - loss: 12.8201 - mae: 12.8201\n",
      "Epoch 17/100\n",
      "1/1 [==============================] - 0s 8ms/step - loss: 12.7079 - mae: 12.7079\n",
      "Epoch 18/100\n",
      "1/1 [==============================] - 0s 7ms/step - loss: 12.5909 - mae: 12.5909\n",
      "Epoch 19/100\n",
      "1/1 [==============================] - 0s 5ms/step - loss: 12.4680 - mae: 12.4680\n",
      "Epoch 20/100\n",
      "1/1 [==============================] - 0s 10ms/step - loss: 12.3378 - mae: 12.3378\n",
      "Epoch 21/100\n",
      "1/1 [==============================] - 0s 4ms/step - loss: 12.1990 - mae: 12.1990\n",
      "Epoch 22/100\n",
      "1/1 [==============================] - 0s 6ms/step - loss: 12.0502 - mae: 12.0502\n",
      "Epoch 23/100\n",
      "1/1 [==============================] - 0s 8ms/step - loss: 11.9443 - mae: 11.9443\n",
      "Epoch 24/100\n",
      "1/1 [==============================] - 0s 5ms/step - loss: 11.8218 - mae: 11.8218\n",
      "Epoch 25/100\n",
      "1/1 [==============================] - 0s 6ms/step - loss: 11.6845 - mae: 11.6845\n",
      "Epoch 26/100\n",
      "1/1 [==============================] - 0s 11ms/step - loss: 11.5297 - mae: 11.5297\n",
      "Epoch 27/100\n",
      "1/1 [==============================] - 0s 8ms/step - loss: 11.3540 - mae: 11.3540\n",
      "Epoch 28/100\n",
      "1/1 [==============================] - 0s 4ms/step - loss: 11.1536 - mae: 11.1536\n",
      "Epoch 29/100\n",
      "1/1 [==============================] - 0s 8ms/step - loss: 10.9238 - mae: 10.9238\n",
      "Epoch 30/100\n",
      "1/1 [==============================] - 0s 4ms/step - loss: 10.6610 - mae: 10.6610\n",
      "Epoch 31/100\n",
      "1/1 [==============================] - 0s 6ms/step - loss: 10.3582 - mae: 10.3582\n",
      "Epoch 32/100\n",
      "1/1 [==============================] - 0s 4ms/step - loss: 9.9982 - mae: 9.9982\n",
      "Epoch 33/100\n",
      "1/1 [==============================] - 0s 6ms/step - loss: 9.5750 - mae: 9.5750\n",
      "Epoch 34/100\n",
      "1/1 [==============================] - 0s 8ms/step - loss: 9.0742 - mae: 9.0742\n",
      "Epoch 35/100\n",
      "1/1 [==============================] - 0s 12ms/step - loss: 8.4777 - mae: 8.4777\n",
      "Epoch 36/100\n",
      "1/1 [==============================] - 0s 9ms/step - loss: 7.7614 - mae: 7.7614\n",
      "Epoch 37/100\n",
      "1/1 [==============================] - 0s 5ms/step - loss: 6.8937 - mae: 6.8937\n",
      "Epoch 38/100\n",
      "1/1 [==============================] - 0s 6ms/step - loss: 5.8330 - mae: 5.8330\n",
      "Epoch 39/100\n",
      "1/1 [==============================] - 0s 9ms/step - loss: 4.5271 - mae: 4.5271\n",
      "Epoch 40/100\n",
      "1/1 [==============================] - 0s 5ms/step - loss: 3.8633 - mae: 3.8633\n",
      "Epoch 41/100\n",
      "1/1 [==============================] - 0s 8ms/step - loss: 3.8569 - mae: 3.8569\n",
      "Epoch 42/100\n",
      "1/1 [==============================] - 0s 14ms/step - loss: 3.8777 - mae: 3.8777\n",
      "Epoch 43/100\n",
      "1/1 [==============================] - 0s 6ms/step - loss: 3.8184 - mae: 3.8184\n",
      "Epoch 44/100\n",
      "1/1 [==============================] - 0s 5ms/step - loss: 3.8931 - mae: 3.8931\n",
      "Epoch 45/100\n",
      "1/1 [==============================] - 0s 8ms/step - loss: 3.7798 - mae: 3.7798\n",
      "Epoch 46/100\n",
      "1/1 [==============================] - 0s 5ms/step - loss: 3.9091 - mae: 3.9091\n",
      "Epoch 47/100\n",
      "1/1 [==============================] - 0s 6ms/step - loss: 3.7913 - mae: 3.7913\n",
      "Epoch 48/100\n",
      "1/1 [==============================] - 0s 7ms/step - loss: 3.8818 - mae: 3.8818\n",
      "Epoch 49/100\n",
      "1/1 [==============================] - 0s 4ms/step - loss: 3.8108 - mae: 3.8108\n",
      "Epoch 50/100\n",
      "1/1 [==============================] - 0s 8ms/step - loss: 3.8430 - mae: 3.8430\n",
      "Epoch 51/100\n",
      "1/1 [==============================] - 0s 5ms/step - loss: 3.8261 - mae: 3.8261\n",
      "Epoch 52/100\n",
      "1/1 [==============================] - 0s 6ms/step - loss: 3.8040 - mae: 3.8040\n",
      "Epoch 53/100\n",
      "1/1 [==============================] - 0s 8ms/step - loss: 3.8423 - mae: 3.8423\n",
      "Epoch 54/100\n",
      "1/1 [==============================] - 0s 6ms/step - loss: 3.7645 - mae: 3.7645\n",
      "Epoch 55/100\n",
      "1/1 [==============================] - 0s 5ms/step - loss: 3.8634 - mae: 3.8634\n",
      "Epoch 56/100\n",
      "1/1 [==============================] - 0s 8ms/step - loss: 3.7480 - mae: 3.7480\n",
      "Epoch 57/100\n",
      "1/1 [==============================] - 0s 9ms/step - loss: 3.8637 - mae: 3.8637\n",
      "Epoch 58/100\n",
      "1/1 [==============================] - 0s 8ms/step - loss: 3.7633 - mae: 3.7633\n",
      "Epoch 59/100\n",
      "1/1 [==============================] - 0s 8ms/step - loss: 3.8241 - mae: 3.8241\n",
      "Epoch 60/100\n",
      "1/1 [==============================] - 0s 10ms/step - loss: 3.7796 - mae: 3.7796\n",
      "Epoch 61/100\n",
      "1/1 [==============================] - 0s 6ms/step - loss: 3.7843 - mae: 3.7843\n",
      "Epoch 62/100\n",
      "1/1 [==============================] - 0s 6ms/step - loss: 3.7966 - mae: 3.7966\n",
      "Epoch 63/100\n",
      "1/1 [==============================] - 0s 8ms/step - loss: 3.7490 - mae: 3.7490\n",
      "Epoch 64/100\n",
      "1/1 [==============================] - 0s 15ms/step - loss: 3.8223 - mae: 3.8223\n",
      "Epoch 65/100\n",
      "1/1 [==============================] - 0s 14ms/step - loss: 3.7101 - mae: 3.7101\n",
      "Epoch 66/100\n",
      "1/1 [==============================] - 0s 6ms/step - loss: 3.8395 - mae: 3.8395\n",
      "Epoch 67/100\n",
      "1/1 [==============================] - 0s 13ms/step - loss: 3.7205 - mae: 3.7205\n",
      "Epoch 68/100\n",
      "1/1 [==============================] - 0s 15ms/step - loss: 3.8002 - mae: 3.8002\n",
      "Epoch 69/100\n",
      "1/1 [==============================] - 0s 10ms/step - loss: 3.7377 - mae: 3.7377\n",
      "Epoch 70/100\n",
      "1/1 [==============================] - 0s 11ms/step - loss: 3.7594 - mae: 3.7594\n",
      "Epoch 71/100\n",
      "1/1 [==============================] - 0s 14ms/step - loss: 3.7603 - mae: 3.7603\n",
      "Epoch 72/100\n",
      "1/1 [==============================] - 0s 11ms/step - loss: 3.7256 - mae: 3.7256\n",
      "Epoch 73/100\n",
      "1/1 [==============================] - 0s 7ms/step - loss: 3.7814 - mae: 3.7814\n",
      "Epoch 74/100\n",
      "1/1 [==============================] - 0s 6ms/step - loss: 3.6827 - mae: 3.6827\n",
      "Epoch 75/100\n",
      "1/1 [==============================] - 0s 5ms/step - loss: 3.7995 - mae: 3.7995\n",
      "Epoch 76/100\n",
      "1/1 [==============================] - 0s 6ms/step - loss: 3.6823 - mae: 3.6823\n",
      "Epoch 77/100\n",
      "1/1 [==============================] - 0s 5ms/step - loss: 3.7712 - mae: 3.7712\n",
      "Epoch 78/100\n",
      "1/1 [==============================] - 0s 5ms/step - loss: 3.7002 - mae: 3.7002\n",
      "Epoch 79/100\n",
      "1/1 [==============================] - 0s 6ms/step - loss: 3.7346 - mae: 3.7346\n",
      "Epoch 80/100\n",
      "1/1 [==============================] - 0s 6ms/step - loss: 3.7269 - mae: 3.7269\n",
      "Epoch 81/100\n",
      "1/1 [==============================] - 0s 8ms/step - loss: 3.6940 - mae: 3.6940\n",
      "Epoch 82/100\n",
      "1/1 [==============================] - 0s 8ms/step - loss: 3.7450 - mae: 3.7450\n",
      "Epoch 83/100\n",
      "1/1 [==============================] - 0s 5ms/step - loss: 3.6500 - mae: 3.6500\n",
      "Epoch 84/100\n",
      "1/1 [==============================] - 0s 5ms/step - loss: 3.7642 - mae: 3.7642\n",
      "Epoch 85/100\n",
      "1/1 [==============================] - 0s 8ms/step - loss: 3.6483 - mae: 3.6483\n",
      "Epoch 86/100\n",
      "1/1 [==============================] - 0s 5ms/step - loss: 3.7370 - mae: 3.7370\n",
      "Epoch 87/100\n",
      "1/1 [==============================] - 0s 5ms/step - loss: 3.6717 - mae: 3.6717\n",
      "Epoch 88/100\n",
      "1/1 [==============================] - 0s 5ms/step - loss: 3.7016 - mae: 3.7016\n",
      "Epoch 89/100\n",
      "1/1 [==============================] - 0s 7ms/step - loss: 3.6940 - mae: 3.6940\n",
      "Epoch 90/100\n",
      "1/1 [==============================] - 0s 6ms/step - loss: 3.6570 - mae: 3.6570\n",
      "Epoch 91/100\n",
      "1/1 [==============================] - 0s 4ms/step - loss: 3.7132 - mae: 3.7132\n",
      "Epoch 92/100\n",
      "1/1 [==============================] - 0s 8ms/step - loss: 3.6122 - mae: 3.6122\n",
      "Epoch 93/100\n",
      "1/1 [==============================] - 0s 8ms/step - loss: 3.7333 - mae: 3.7333\n",
      "Epoch 94/100\n",
      "1/1 [==============================] - 0s 5ms/step - loss: 3.6185 - mae: 3.6185\n",
      "Epoch 95/100\n",
      "1/1 [==============================] - 0s 8ms/step - loss: 3.7021 - mae: 3.7021\n",
      "Epoch 96/100\n",
      "1/1 [==============================] - 0s 8ms/step - loss: 3.6462 - mae: 3.6462\n",
      "Epoch 97/100\n",
      "1/1 [==============================] - 0s 10ms/step - loss: 3.6605 - mae: 3.6605\n",
      "Epoch 98/100\n",
      "1/1 [==============================] - 0s 8ms/step - loss: 3.6654 - mae: 3.6654\n",
      "Epoch 99/100\n",
      "1/1 [==============================] - 0s 5ms/step - loss: 3.6148 - mae: 3.6148\n",
      "Epoch 100/100\n",
      "1/1 [==============================] - 0s 10ms/step - loss: 3.6856 - mae: 3.6856\n"
     ]
    },
    {
     "data": {
      "text/plain": [
       "<keras.callbacks.History at 0x2f499352740>"
      ]
     },
     "execution_count": 17,
     "metadata": {},
     "output_type": "execute_result"
    }
   ],
   "source": [
    "# set random seed\n",
    "tf.random.set_seed(42)\n",
    "\n",
    "# create a model\n",
    "model = tf.keras.Sequential([\n",
    "    tf.keras.layers.Dense(10,activation=\"relu\"),\n",
    "    tf.keras.layers.Dense(10,activation=\"relu\"),\n",
    "    tf.keras.layers.Dense(1)\n",
    "])\n",
    "\n",
    "#by increasing hidden layers loss is decreasing, but overfitting is increasing\n",
    "\n",
    "\n",
    "#compiling the model\n",
    "\n",
    "model.compile(loss=\"mae\",optimizer=\"sgd\",metrics=[\"mae\"])\n",
    "\n",
    "model.fit(tf.expand_dims(X,axis=-1),y,epochs=100)"
   ]
  },
  {
   "cell_type": "code",
   "execution_count": 18,
   "metadata": {},
   "outputs": [
    {
     "name": "stdout",
     "output_type": "stream",
     "text": [
      "1/1 [==============================] - 0s 125ms/step\n"
     ]
    },
    {
     "data": {
      "text/plain": [
       "array([[31.781101]], dtype=float32)"
      ]
     },
     "execution_count": 18,
     "metadata": {},
     "output_type": "execute_result"
    }
   ],
   "source": [
    "model.predict([17.0])"
   ]
  },
  {
   "cell_type": "code",
   "execution_count": 19,
   "metadata": {},
   "outputs": [
    {
     "name": "stderr",
     "output_type": "stream",
     "text": [
      "c:\\Users\\lupiv\\AppData\\Local\\Programs\\Python\\Python310\\lib\\site-packages\\keras\\optimizers\\optimizer_v2\\adam.py:114: UserWarning: The `lr` argument is deprecated, use `learning_rate` instead.\n",
      "  super().__init__(name, **kwargs)\n"
     ]
    },
    {
     "name": "stdout",
     "output_type": "stream",
     "text": [
      "Epoch 1/100\n",
      "1/1 [==============================] - 1s 531ms/step - loss: 8.7880 - mae: 8.7880\n",
      "Epoch 2/100\n",
      "1/1 [==============================] - 0s 7ms/step - loss: 8.7430 - mae: 8.7430\n",
      "Epoch 3/100\n",
      "1/1 [==============================] - 0s 9ms/step - loss: 8.6980 - mae: 8.6980\n",
      "Epoch 4/100\n",
      "1/1 [==============================] - 0s 4ms/step - loss: 8.6530 - mae: 8.6530\n",
      "Epoch 5/100\n",
      "1/1 [==============================] - 0s 7ms/step - loss: 8.6080 - mae: 8.6080\n",
      "Epoch 6/100\n",
      "1/1 [==============================] - 0s 9ms/step - loss: 8.5630 - mae: 8.5630\n",
      "Epoch 7/100\n",
      "1/1 [==============================] - 0s 7ms/step - loss: 8.5180 - mae: 8.5180\n",
      "Epoch 8/100\n",
      "1/1 [==============================] - 0s 6ms/step - loss: 8.4730 - mae: 8.4730\n",
      "Epoch 9/100\n",
      "1/1 [==============================] - 0s 5ms/step - loss: 8.4280 - mae: 8.4280\n",
      "Epoch 10/100\n",
      "1/1 [==============================] - 0s 6ms/step - loss: 8.3830 - mae: 8.3830\n",
      "Epoch 11/100\n",
      "1/1 [==============================] - 0s 4ms/step - loss: 8.3380 - mae: 8.3380\n",
      "Epoch 12/100\n",
      "1/1 [==============================] - 0s 6ms/step - loss: 8.2930 - mae: 8.2930\n",
      "Epoch 13/100\n",
      "1/1 [==============================] - 0s 6ms/step - loss: 8.2480 - mae: 8.2480\n",
      "Epoch 14/100\n",
      "1/1 [==============================] - 0s 6ms/step - loss: 8.2030 - mae: 8.2030\n",
      "Epoch 15/100\n",
      "1/1 [==============================] - 0s 11ms/step - loss: 8.1580 - mae: 8.1580\n",
      "Epoch 16/100\n",
      "1/1 [==============================] - 0s 13ms/step - loss: 8.1130 - mae: 8.1130\n",
      "Epoch 17/100\n",
      "1/1 [==============================] - 0s 11ms/step - loss: 8.0680 - mae: 8.0680\n",
      "Epoch 18/100\n",
      "1/1 [==============================] - 0s 4ms/step - loss: 8.0230 - mae: 8.0230\n",
      "Epoch 19/100\n",
      "1/1 [==============================] - 0s 6ms/step - loss: 7.9780 - mae: 7.9780\n",
      "Epoch 20/100\n",
      "1/1 [==============================] - 0s 9ms/step - loss: 7.9330 - mae: 7.9330\n",
      "Epoch 21/100\n",
      "1/1 [==============================] - 0s 8ms/step - loss: 7.8880 - mae: 7.8880\n",
      "Epoch 22/100\n",
      "1/1 [==============================] - 0s 7ms/step - loss: 7.8430 - mae: 7.8430\n",
      "Epoch 23/100\n",
      "1/1 [==============================] - 0s 5ms/step - loss: 7.7980 - mae: 7.7980\n",
      "Epoch 24/100\n",
      "1/1 [==============================] - 0s 9ms/step - loss: 7.7530 - mae: 7.7530\n",
      "Epoch 25/100\n",
      "1/1 [==============================] - 0s 6ms/step - loss: 7.7080 - mae: 7.7080\n",
      "Epoch 26/100\n",
      "1/1 [==============================] - 0s 5ms/step - loss: 7.6630 - mae: 7.6630\n",
      "Epoch 27/100\n",
      "1/1 [==============================] - 0s 9ms/step - loss: 7.6180 - mae: 7.6180\n",
      "Epoch 28/100\n",
      "1/1 [==============================] - 0s 11ms/step - loss: 7.5730 - mae: 7.5730\n",
      "Epoch 29/100\n",
      "1/1 [==============================] - 0s 7ms/step - loss: 7.5280 - mae: 7.5280\n",
      "Epoch 30/100\n",
      "1/1 [==============================] - 0s 11ms/step - loss: 7.4830 - mae: 7.4830\n",
      "Epoch 31/100\n",
      "1/1 [==============================] - 0s 7ms/step - loss: 7.4380 - mae: 7.4380\n",
      "Epoch 32/100\n",
      "1/1 [==============================] - 0s 9ms/step - loss: 7.3930 - mae: 7.3930\n",
      "Epoch 33/100\n",
      "1/1 [==============================] - 0s 7ms/step - loss: 7.3480 - mae: 7.3480\n",
      "Epoch 34/100\n",
      "1/1 [==============================] - 0s 5ms/step - loss: 7.3030 - mae: 7.3030\n",
      "Epoch 35/100\n",
      "1/1 [==============================] - 0s 14ms/step - loss: 7.2580 - mae: 7.2580\n",
      "Epoch 36/100\n",
      "1/1 [==============================] - 0s 5ms/step - loss: 7.2375 - mae: 7.2375\n",
      "Epoch 37/100\n",
      "1/1 [==============================] - 0s 5ms/step - loss: 7.2301 - mae: 7.2301\n",
      "Epoch 38/100\n",
      "1/1 [==============================] - 0s 6ms/step - loss: 7.2229 - mae: 7.2229\n",
      "Epoch 39/100\n",
      "1/1 [==============================] - 0s 7ms/step - loss: 7.2158 - mae: 7.2158\n",
      "Epoch 40/100\n",
      "1/1 [==============================] - 0s 5ms/step - loss: 7.2088 - mae: 7.2088\n",
      "Epoch 41/100\n",
      "1/1 [==============================] - 0s 8ms/step - loss: 7.2019 - mae: 7.2019\n",
      "Epoch 42/100\n",
      "1/1 [==============================] - 0s 5ms/step - loss: 7.1951 - mae: 7.1951\n",
      "Epoch 43/100\n",
      "1/1 [==============================] - 0s 4ms/step - loss: 7.1883 - mae: 7.1883\n",
      "Epoch 44/100\n",
      "1/1 [==============================] - 0s 9ms/step - loss: 7.1816 - mae: 7.1816\n",
      "Epoch 45/100\n",
      "1/1 [==============================] - 0s 6ms/step - loss: 7.1749 - mae: 7.1749\n",
      "Epoch 46/100\n",
      "1/1 [==============================] - 0s 9ms/step - loss: 7.1683 - mae: 7.1683\n",
      "Epoch 47/100\n",
      "1/1 [==============================] - 0s 6ms/step - loss: 7.1618 - mae: 7.1618\n",
      "Epoch 48/100\n",
      "1/1 [==============================] - 0s 5ms/step - loss: 7.1552 - mae: 7.1552\n",
      "Epoch 49/100\n",
      "1/1 [==============================] - 0s 8ms/step - loss: 7.1487 - mae: 7.1487\n",
      "Epoch 50/100\n",
      "1/1 [==============================] - 0s 4ms/step - loss: 7.1423 - mae: 7.1423\n",
      "Epoch 51/100\n",
      "1/1 [==============================] - 0s 8ms/step - loss: 7.1358 - mae: 7.1358\n",
      "Epoch 52/100\n",
      "1/1 [==============================] - 0s 5ms/step - loss: 7.1294 - mae: 7.1294\n",
      "Epoch 53/100\n",
      "1/1 [==============================] - 0s 5ms/step - loss: 7.1230 - mae: 7.1230\n",
      "Epoch 54/100\n",
      "1/1 [==============================] - 0s 11ms/step - loss: 7.1166 - mae: 7.1166\n",
      "Epoch 55/100\n",
      "1/1 [==============================] - 0s 4ms/step - loss: 7.1102 - mae: 7.1102\n",
      "Epoch 56/100\n",
      "1/1 [==============================] - 0s 4ms/step - loss: 7.1038 - mae: 7.1038\n",
      "Epoch 57/100\n",
      "1/1 [==============================] - 0s 5ms/step - loss: 7.0974 - mae: 7.0974\n",
      "Epoch 58/100\n",
      "1/1 [==============================] - 0s 4ms/step - loss: 7.0910 - mae: 7.0910\n",
      "Epoch 59/100\n",
      "1/1 [==============================] - 0s 6ms/step - loss: 7.0847 - mae: 7.0847\n",
      "Epoch 60/100\n",
      "1/1 [==============================] - 0s 5ms/step - loss: 7.0783 - mae: 7.0783\n",
      "Epoch 61/100\n",
      "1/1 [==============================] - 0s 5ms/step - loss: 7.0719 - mae: 7.0719\n",
      "Epoch 62/100\n",
      "1/1 [==============================] - 0s 7ms/step - loss: 7.0655 - mae: 7.0655\n",
      "Epoch 63/100\n",
      "1/1 [==============================] - 0s 6ms/step - loss: 7.0591 - mae: 7.0591\n",
      "Epoch 64/100\n",
      "1/1 [==============================] - 0s 8ms/step - loss: 7.0527 - mae: 7.0527\n",
      "Epoch 65/100\n",
      "1/1 [==============================] - 0s 6ms/step - loss: 7.0464 - mae: 7.0464\n",
      "Epoch 66/100\n",
      "1/1 [==============================] - 0s 5ms/step - loss: 7.0400 - mae: 7.0400\n",
      "Epoch 67/100\n",
      "1/1 [==============================] - 0s 7ms/step - loss: 7.0336 - mae: 7.0336\n",
      "Epoch 68/100\n",
      "1/1 [==============================] - 0s 5ms/step - loss: 7.0271 - mae: 7.0271\n",
      "Epoch 69/100\n",
      "1/1 [==============================] - 0s 8ms/step - loss: 7.0207 - mae: 7.0207\n",
      "Epoch 70/100\n",
      "1/1 [==============================] - 0s 4ms/step - loss: 7.0143 - mae: 7.0143\n",
      "Epoch 71/100\n",
      "1/1 [==============================] - 0s 7ms/step - loss: 7.0079 - mae: 7.0079\n",
      "Epoch 72/100\n",
      "1/1 [==============================] - 0s 4ms/step - loss: 7.0014 - mae: 7.0014\n",
      "Epoch 73/100\n",
      "1/1 [==============================] - 0s 3ms/step - loss: 6.9950 - mae: 6.9950\n",
      "Epoch 74/100\n",
      "1/1 [==============================] - 0s 9ms/step - loss: 6.9885 - mae: 6.9885\n",
      "Epoch 75/100\n",
      "1/1 [==============================] - 0s 5ms/step - loss: 6.9821 - mae: 6.9821\n",
      "Epoch 76/100\n",
      "1/1 [==============================] - 0s 9ms/step - loss: 6.9756 - mae: 6.9756\n",
      "Epoch 77/100\n",
      "1/1 [==============================] - 0s 6ms/step - loss: 6.9691 - mae: 6.9691\n",
      "Epoch 78/100\n",
      "1/1 [==============================] - 0s 6ms/step - loss: 6.9626 - mae: 6.9626\n",
      "Epoch 79/100\n",
      "1/1 [==============================] - 0s 8ms/step - loss: 6.9561 - mae: 6.9561\n",
      "Epoch 80/100\n",
      "1/1 [==============================] - 0s 6ms/step - loss: 6.9496 - mae: 6.9496\n",
      "Epoch 81/100\n",
      "1/1 [==============================] - 0s 7ms/step - loss: 6.9431 - mae: 6.9431\n",
      "Epoch 82/100\n",
      "1/1 [==============================] - 0s 8ms/step - loss: 6.9366 - mae: 6.9366\n",
      "Epoch 83/100\n",
      "1/1 [==============================] - 0s 6ms/step - loss: 6.9300 - mae: 6.9300\n",
      "Epoch 84/100\n",
      "1/1 [==============================] - 0s 10ms/step - loss: 6.9235 - mae: 6.9235\n",
      "Epoch 85/100\n",
      "1/1 [==============================] - 0s 4ms/step - loss: 6.9170 - mae: 6.9170\n",
      "Epoch 86/100\n",
      "1/1 [==============================] - 0s 5ms/step - loss: 6.9104 - mae: 6.9104\n",
      "Epoch 87/100\n",
      "1/1 [==============================] - 0s 4ms/step - loss: 6.9038 - mae: 6.9038\n",
      "Epoch 88/100\n",
      "1/1 [==============================] - 0s 7ms/step - loss: 6.8973 - mae: 6.8973\n",
      "Epoch 89/100\n",
      "1/1 [==============================] - 0s 7ms/step - loss: 6.8907 - mae: 6.8907\n",
      "Epoch 90/100\n",
      "1/1 [==============================] - 0s 5ms/step - loss: 6.8841 - mae: 6.8841\n",
      "Epoch 91/100\n",
      "1/1 [==============================] - 0s 10ms/step - loss: 6.8775 - mae: 6.8775\n",
      "Epoch 92/100\n",
      "1/1 [==============================] - 0s 8ms/step - loss: 6.8709 - mae: 6.8709\n",
      "Epoch 93/100\n",
      "1/1 [==============================] - 0s 4ms/step - loss: 6.8643 - mae: 6.8643\n",
      "Epoch 94/100\n",
      "1/1 [==============================] - 0s 9ms/step - loss: 6.8576 - mae: 6.8576\n",
      "Epoch 95/100\n",
      "1/1 [==============================] - 0s 6ms/step - loss: 6.8510 - mae: 6.8510\n",
      "Epoch 96/100\n",
      "1/1 [==============================] - 0s 4ms/step - loss: 6.8444 - mae: 6.8444\n",
      "Epoch 97/100\n",
      "1/1 [==============================] - 0s 9ms/step - loss: 6.8377 - mae: 6.8377\n",
      "Epoch 98/100\n",
      "1/1 [==============================] - 0s 5ms/step - loss: 6.8311 - mae: 6.8311\n",
      "Epoch 99/100\n",
      "1/1 [==============================] - 0s 9ms/step - loss: 6.8244 - mae: 6.8244\n",
      "Epoch 100/100\n",
      "1/1 [==============================] - 0s 5ms/step - loss: 6.8177 - mae: 6.8177\n"
     ]
    },
    {
     "data": {
      "text/plain": [
       "<keras.callbacks.History at 0x2f4991b32b0>"
      ]
     },
     "execution_count": 19,
     "metadata": {},
     "output_type": "execute_result"
    }
   ],
   "source": [
    "# set seed\n",
    "tf.random.set_seed(42)\n",
    "\n",
    "# create our model\n",
    "\n",
    "model= tf.keras.Sequential(\n",
    "    tf.keras.layers.Dense(1)\n",
    ")\n",
    "\n",
    "#compile our model\n",
    "model.compile(loss=\"mae\",optimizer=tf.keras.optimizers.Adam(lr=0.01),metrics=[\"mae\"])\n",
    "\n",
    "#fit your model\n",
    "\n",
    "model.fit(tf.expand_dims(X,axis=-1),y,epochs=100)\n"
   ]
  },
  {
   "cell_type": "code",
   "execution_count": 20,
   "metadata": {},
   "outputs": [
    {
     "name": "stdout",
     "output_type": "stream",
     "text": [
      "WARNING:tensorflow:5 out of the last 5 calls to <function Model.make_predict_function.<locals>.predict_function at 0x000002F4993549D0> triggered tf.function retracing. Tracing is expensive and the excessive number of tracings could be due to (1) creating @tf.function repeatedly in a loop, (2) passing tensors with different shapes, (3) passing Python objects instead of tensors. For (1), please define your @tf.function outside of the loop. For (2), @tf.function has reduce_retracing=True option that can avoid unnecessary retracing. For (3), please refer to https://www.tensorflow.org/guide/function#controlling_retracing and https://www.tensorflow.org/api_docs/python/tf/function for  more details.\n",
      "1/1 [==============================] - 0s 89ms/step\n"
     ]
    },
    {
     "data": {
      "text/plain": [
       "array([[31.459795]], dtype=float32)"
      ]
     },
     "execution_count": 20,
     "metadata": {},
     "output_type": "execute_result"
    }
   ],
   "source": [
    "model.predict([17.0])"
   ]
  },
  {
   "cell_type": "code",
   "execution_count": 21,
   "metadata": {},
   "outputs": [
    {
     "name": "stdout",
     "output_type": "stream",
     "text": [
      "Epoch 1/100\n",
      "1/1 [==============================] - 1s 579ms/step - loss: 13.9119 - mae: 13.9119\n",
      "Epoch 2/100\n",
      "1/1 [==============================] - 0s 4ms/step - loss: 13.3774 - mae: 13.3774\n",
      "Epoch 3/100\n",
      "1/1 [==============================] - 0s 10ms/step - loss: 12.8676 - mae: 12.8676\n",
      "Epoch 4/100\n",
      "1/1 [==============================] - 0s 6ms/step - loss: 12.3688 - mae: 12.3688\n",
      "Epoch 5/100\n",
      "1/1 [==============================] - 0s 4ms/step - loss: 11.8809 - mae: 11.8809\n",
      "Epoch 6/100\n",
      "1/1 [==============================] - 0s 9ms/step - loss: 11.3371 - mae: 11.3371\n",
      "Epoch 7/100\n",
      "1/1 [==============================] - 0s 5ms/step - loss: 10.7346 - mae: 10.7346\n",
      "Epoch 8/100\n",
      "1/1 [==============================] - 0s 7ms/step - loss: 10.0117 - mae: 10.0117\n",
      "Epoch 9/100\n",
      "1/1 [==============================] - 0s 10ms/step - loss: 9.1093 - mae: 9.1093\n",
      "Epoch 10/100\n",
      "1/1 [==============================] - 0s 5ms/step - loss: 7.9501 - mae: 7.9501\n",
      "Epoch 11/100\n",
      "1/1 [==============================] - 0s 6ms/step - loss: 6.4904 - mae: 6.4904\n",
      "Epoch 12/100\n",
      "1/1 [==============================] - 0s 5ms/step - loss: 4.7008 - mae: 4.7008\n",
      "Epoch 13/100\n",
      "1/1 [==============================] - 0s 8ms/step - loss: 4.1578 - mae: 4.1578\n",
      "Epoch 14/100\n",
      "1/1 [==============================] - 0s 6ms/step - loss: 3.9431 - mae: 3.9431\n",
      "Epoch 15/100\n",
      "1/1 [==============================] - 0s 4ms/step - loss: 4.0144 - mae: 4.0144\n",
      "Epoch 16/100\n",
      "1/1 [==============================] - 0s 5ms/step - loss: 3.9521 - mae: 3.9521\n",
      "Epoch 17/100\n",
      "1/1 [==============================] - 0s 7ms/step - loss: 3.9665 - mae: 3.9665\n",
      "Epoch 18/100\n",
      "1/1 [==============================] - 0s 7ms/step - loss: 3.9630 - mae: 3.9630\n",
      "Epoch 19/100\n",
      "1/1 [==============================] - 0s 9ms/step - loss: 3.9171 - mae: 3.9171\n",
      "Epoch 20/100\n",
      "1/1 [==============================] - 0s 4ms/step - loss: 3.9753 - mae: 3.9753\n",
      "Epoch 21/100\n",
      "1/1 [==============================] - 0s 31ms/step - loss: 3.8659 - mae: 3.8659\n",
      "Epoch 22/100\n",
      "1/1 [==============================] - 0s 11ms/step - loss: 3.9889 - mae: 3.9889\n",
      "Epoch 23/100\n",
      "1/1 [==============================] - 0s 6ms/step - loss: 3.8134 - mae: 3.8134\n",
      "Epoch 24/100\n",
      "1/1 [==============================] - 0s 5ms/step - loss: 4.0032 - mae: 4.0032\n",
      "Epoch 25/100\n",
      "1/1 [==============================] - 0s 9ms/step - loss: 3.7979 - mae: 3.7979\n",
      "Epoch 26/100\n",
      "1/1 [==============================] - 0s 5ms/step - loss: 3.9686 - mae: 3.9686\n",
      "Epoch 27/100\n",
      "1/1 [==============================] - 0s 6ms/step - loss: 3.8136 - mae: 3.8136\n",
      "Epoch 28/100\n",
      "1/1 [==============================] - 0s 6ms/step - loss: 3.9194 - mae: 3.9194\n",
      "Epoch 29/100\n",
      "1/1 [==============================] - 0s 7ms/step - loss: 3.8691 - mae: 3.8691\n",
      "Epoch 30/100\n",
      "1/1 [==============================] - 0s 10ms/step - loss: 3.8400 - mae: 3.8400\n",
      "Epoch 31/100\n",
      "1/1 [==============================] - 0s 7ms/step - loss: 3.8854 - mae: 3.8854\n",
      "Epoch 32/100\n",
      "1/1 [==============================] - 0s 5ms/step - loss: 3.7818 - mae: 3.7818\n",
      "Epoch 33/100\n",
      "1/1 [==============================] - 0s 8ms/step - loss: 3.9038 - mae: 3.9038\n",
      "Epoch 34/100\n",
      "1/1 [==============================] - 0s 10ms/step - loss: 3.7228 - mae: 3.7228\n",
      "Epoch 35/100\n",
      "1/1 [==============================] - 0s 5ms/step - loss: 3.9229 - mae: 3.9229\n",
      "Epoch 36/100\n",
      "1/1 [==============================] - 0s 6ms/step - loss: 3.7244 - mae: 3.7244\n",
      "Epoch 37/100\n",
      "1/1 [==============================] - 0s 10ms/step - loss: 3.8677 - mae: 3.8677\n",
      "Epoch 38/100\n",
      "1/1 [==============================] - 0s 4ms/step - loss: 3.7832 - mae: 3.7832\n",
      "Epoch 39/100\n",
      "1/1 [==============================] - 0s 9ms/step - loss: 3.7887 - mae: 3.7887\n",
      "Epoch 40/100\n",
      "1/1 [==============================] - 0s 7ms/step - loss: 3.8024 - mae: 3.8024\n",
      "Epoch 41/100\n",
      "1/1 [==============================] - 0s 6ms/step - loss: 3.7268 - mae: 3.7268\n",
      "Epoch 42/100\n",
      "1/1 [==============================] - 0s 7ms/step - loss: 3.8233 - mae: 3.8233\n",
      "Epoch 43/100\n",
      "1/1 [==============================] - 0s 5ms/step - loss: 3.6629 - mae: 3.6629\n",
      "Epoch 44/100\n",
      "1/1 [==============================] - 0s 6ms/step - loss: 3.8456 - mae: 3.8456\n",
      "Epoch 45/100\n",
      "1/1 [==============================] - 0s 8ms/step - loss: 3.6521 - mae: 3.6521\n",
      "Epoch 46/100\n",
      "1/1 [==============================] - 0s 4ms/step - loss: 3.8020 - mae: 3.8020\n",
      "Epoch 47/100\n",
      "1/1 [==============================] - 0s 8ms/step - loss: 3.6752 - mae: 3.6752\n",
      "Epoch 48/100\n",
      "1/1 [==============================] - 0s 4ms/step - loss: 3.7470 - mae: 3.7470\n",
      "Epoch 49/100\n",
      "1/1 [==============================] - 0s 6ms/step - loss: 3.7370 - mae: 3.7370\n",
      "Epoch 50/100\n",
      "1/1 [==============================] - 0s 7ms/step - loss: 3.6515 - mae: 3.6515\n",
      "Epoch 51/100\n",
      "1/1 [==============================] - 0s 5ms/step - loss: 3.7608 - mae: 3.7608\n",
      "Epoch 52/100\n",
      "1/1 [==============================] - 0s 10ms/step - loss: 3.5828 - mae: 3.5828\n",
      "Epoch 53/100\n",
      "1/1 [==============================] - 0s 6ms/step - loss: 3.7860 - mae: 3.7860\n",
      "Epoch 54/100\n",
      "1/1 [==============================] - 0s 11ms/step - loss: 3.5955 - mae: 3.5955\n",
      "Epoch 55/100\n",
      "1/1 [==============================] - 0s 10ms/step - loss: 3.7165 - mae: 3.7165\n",
      "Epoch 56/100\n",
      "1/1 [==============================] - 0s 9ms/step - loss: 3.6211 - mae: 3.6211\n",
      "Epoch 57/100\n",
      "1/1 [==============================] - 0s 6ms/step - loss: 3.6463 - mae: 3.6463\n",
      "Epoch 58/100\n",
      "1/1 [==============================] - 0s 9ms/step - loss: 3.6481 - mae: 3.6481\n",
      "Epoch 59/100\n",
      "1/1 [==============================] - 0s 5ms/step - loss: 3.5861 - mae: 3.5861\n",
      "Epoch 60/100\n",
      "1/1 [==============================] - 0s 4ms/step - loss: 3.7140 - mae: 3.7140\n",
      "Epoch 61/100\n",
      "1/1 [==============================] - 0s 6ms/step - loss: 3.5291 - mae: 3.5291\n",
      "Epoch 62/100\n",
      "1/1 [==============================] - 0s 6ms/step - loss: 3.6808 - mae: 3.6808\n",
      "Epoch 63/100\n",
      "1/1 [==============================] - 0s 7ms/step - loss: 3.5554 - mae: 3.5554\n",
      "Epoch 64/100\n",
      "1/1 [==============================] - 0s 5ms/step - loss: 3.6073 - mae: 3.6073\n",
      "Epoch 65/100\n",
      "1/1 [==============================] - 0s 7ms/step - loss: 3.5836 - mae: 3.5836\n",
      "Epoch 66/100\n",
      "1/1 [==============================] - 0s 6ms/step - loss: 3.5311 - mae: 3.5311\n",
      "Epoch 67/100\n",
      "1/1 [==============================] - 0s 4ms/step - loss: 3.6135 - mae: 3.6135\n",
      "Epoch 68/100\n",
      "1/1 [==============================] - 0s 9ms/step - loss: 3.4521 - mae: 3.4521\n",
      "Epoch 69/100\n",
      "1/1 [==============================] - 0s 5ms/step - loss: 3.6455 - mae: 3.6455\n",
      "Epoch 70/100\n",
      "1/1 [==============================] - 0s 5ms/step - loss: 3.4694 - mae: 3.4694\n",
      "Epoch 71/100\n",
      "1/1 [==============================] - 0s 5ms/step - loss: 3.5520 - mae: 3.5520\n",
      "Epoch 72/100\n",
      "1/1 [==============================] - 0s 5ms/step - loss: 3.5318 - mae: 3.5318\n",
      "Epoch 73/100\n",
      "1/1 [==============================] - 0s 8ms/step - loss: 3.4708 - mae: 3.4708\n",
      "Epoch 74/100\n",
      "1/1 [==============================] - 0s 6ms/step - loss: 3.5629 - mae: 3.5629\n",
      "Epoch 75/100\n",
      "1/1 [==============================] - 0s 8ms/step - loss: 3.3878 - mae: 3.3878\n",
      "Epoch 76/100\n",
      "1/1 [==============================] - 0s 8ms/step - loss: 3.5820 - mae: 3.5820\n",
      "Epoch 77/100\n",
      "1/1 [==============================] - 0s 4ms/step - loss: 3.4182 - mae: 3.4182\n",
      "Epoch 78/100\n",
      "1/1 [==============================] - 0s 9ms/step - loss: 3.5008 - mae: 3.5008\n",
      "Epoch 79/100\n",
      "1/1 [==============================] - 0s 6ms/step - loss: 3.4868 - mae: 3.4868\n",
      "Epoch 80/100\n",
      "1/1 [==============================] - 0s 7ms/step - loss: 3.3946 - mae: 3.3946\n",
      "Epoch 81/100\n",
      "1/1 [==============================] - 0s 10ms/step - loss: 3.5183 - mae: 3.5183\n",
      "Epoch 82/100\n",
      "1/1 [==============================] - 0s 9ms/step - loss: 3.3457 - mae: 3.3457\n",
      "Epoch 83/100\n",
      "1/1 [==============================] - 0s 4ms/step - loss: 3.5018 - mae: 3.5018\n",
      "Epoch 84/100\n",
      "1/1 [==============================] - 0s 9ms/step - loss: 3.3757 - mae: 3.3757\n",
      "Epoch 85/100\n",
      "1/1 [==============================] - 0s 8ms/step - loss: 3.4139 - mae: 3.4139\n",
      "Epoch 86/100\n",
      "1/1 [==============================] - 0s 5ms/step - loss: 3.4082 - mae: 3.4082\n",
      "Epoch 87/100\n",
      "1/1 [==============================] - 0s 10ms/step - loss: 3.3178 - mae: 3.3178\n",
      "Epoch 88/100\n",
      "1/1 [==============================] - 0s 8ms/step - loss: 3.4489 - mae: 3.4489\n",
      "Epoch 89/100\n",
      "1/1 [==============================] - 0s 6ms/step - loss: 3.2751 - mae: 3.2751\n",
      "Epoch 90/100\n",
      "1/1 [==============================] - 0s 8ms/step - loss: 3.4378 - mae: 3.4378\n",
      "Epoch 91/100\n",
      "1/1 [==============================] - 0s 6ms/step - loss: 3.3430 - mae: 3.3430\n",
      "Epoch 92/100\n",
      "1/1 [==============================] - 0s 6ms/step - loss: 3.3094 - mae: 3.3094\n",
      "Epoch 93/100\n",
      "1/1 [==============================] - 0s 8ms/step - loss: 3.3779 - mae: 3.3779\n",
      "Epoch 94/100\n",
      "1/1 [==============================] - 0s 5ms/step - loss: 3.2135 - mae: 3.2135\n",
      "Epoch 95/100\n",
      "1/1 [==============================] - 0s 9ms/step - loss: 3.4012 - mae: 3.4012\n",
      "Epoch 96/100\n",
      "1/1 [==============================] - 0s 5ms/step - loss: 3.2498 - mae: 3.2498\n",
      "Epoch 97/100\n",
      "1/1 [==============================] - 0s 6ms/step - loss: 3.3005 - mae: 3.3005\n",
      "Epoch 98/100\n",
      "1/1 [==============================] - 0s 9ms/step - loss: 3.2885 - mae: 3.2885\n",
      "Epoch 99/100\n",
      "1/1 [==============================] - 0s 5ms/step - loss: 3.1969 - mae: 3.1969\n",
      "Epoch 100/100\n",
      "1/1 [==============================] - 0s 19ms/step - loss: 3.3290 - mae: 3.3290\n"
     ]
    },
    {
     "data": {
      "text/plain": [
       "<keras.callbacks.History at 0x2f49a4bfe80>"
      ]
     },
     "execution_count": 21,
     "metadata": {},
     "output_type": "execute_result"
    }
   ],
   "source": [
    "tf.random.set_seed(42)\n",
    "list=[tf.keras.layers.Dense(100,activation=\"relu\"),\n",
    "tf.keras.layers.Dense(100,activation=\"relu\"),\n",
    "tf.keras.layers.Dense(100,activation=\"relu\"),\n",
    "tf.keras.layers.Dense(1)]\n",
    "\n",
    "model = tf.keras.Sequential(list)\n",
    "\n",
    "#compiling the model\n",
    "model.compile(loss=tf.keras.losses.mae,\n",
    "                optimizer=tf.keras.optimizers.SGD(),\n",
    "                metrics=[\"mae\"])\n",
    "\n",
    "model.fit(tf.expand_dims(X, axis=-1), y, epochs=100)"
   ]
  },
  {
   "cell_type": "code",
   "execution_count": 22,
   "metadata": {},
   "outputs": [
    {
     "name": "stdout",
     "output_type": "stream",
     "text": [
      "WARNING:tensorflow:6 out of the last 6 calls to <function Model.make_predict_function.<locals>.predict_function at 0x000002F49A485900> triggered tf.function retracing. Tracing is expensive and the excessive number of tracings could be due to (1) creating @tf.function repeatedly in a loop, (2) passing tensors with different shapes, (3) passing Python objects instead of tensors. For (1), please define your @tf.function outside of the loop. For (2), @tf.function has reduce_retracing=True option that can avoid unnecessary retracing. For (3), please refer to https://www.tensorflow.org/guide/function#controlling_retracing and https://www.tensorflow.org/api_docs/python/tf/function for  more details.\n",
      "1/1 [==============================] - 0s 118ms/step\n"
     ]
    },
    {
     "data": {
      "text/plain": [
       "array([[31.609385]], dtype=float32)"
      ]
     },
     "execution_count": 22,
     "metadata": {},
     "output_type": "execute_result"
    }
   ],
   "source": [
    "model.predict([17.0])\n",
    "# it is not necessary by that by increasing hyperparameter our error will be reduced"
   ]
  },
  {
   "cell_type": "markdown",
   "metadata": {},
   "source": [
    "### Evaluating a model\n",
    "\n",
    "in practice, a typical workflow you'll go through when you are building neural networks is:\n",
    "\n",
    "> Build a model ---> fit it ---> evaluate it ---> tweak a model ---> fit it ---> evaluate it ----> tweak it ---> fit it ---> evaluate it...\n",
    "\n",
    "when it comes to evaluation ... there are 3 words you should remember:\n",
    "\n",
    ">'Visualize,Visualize,Visualize,'\n",
    "\n",
    "its a good idea to visualize:\n",
    "* the data- what data are we working with? how does it look like.\n",
    "* the model itself- what does our model look like?\n",
    "* the training of a model -  how does a model perform while it learns?\n",
    "* the predictions of the model- how does the predictions of the model line up against ground truth(the original labels)?"
   ]
  },
  {
   "cell_type": "code",
   "execution_count": 23,
   "metadata": {},
   "outputs": [
    {
     "data": {
      "text/plain": [
       "<tf.Tensor: shape=(50,), dtype=int32, numpy=\n",
       "array([-100,  -96,  -92,  -88,  -84,  -80,  -76,  -72,  -68,  -64,  -60,\n",
       "        -56,  -52,  -48,  -44,  -40,  -36,  -32,  -28,  -24,  -20,  -16,\n",
       "        -12,   -8,   -4,    0,    4,    8,   12,   16,   20,   24,   28,\n",
       "         32,   36,   40,   44,   48,   52,   56,   60,   64,   68,   72,\n",
       "         76,   80,   84,   88,   92,   96])>"
      ]
     },
     "execution_count": 23,
     "metadata": {},
     "output_type": "execute_result"
    }
   ],
   "source": [
    "# make a bigger data set\n",
    "X= tf.range(-100,100,4)\n",
    "X"
   ]
  },
  {
   "cell_type": "code",
   "execution_count": 24,
   "metadata": {},
   "outputs": [
    {
     "data": {
      "text/plain": [
       "<tf.Tensor: shape=(50,), dtype=int32, numpy=\n",
       "array([-90, -86, -82, -78, -74, -70, -66, -62, -58, -54, -50, -46, -42,\n",
       "       -38, -34, -30, -26, -22, -18, -14, -10,  -6,  -2,   2,   6,  10,\n",
       "        14,  18,  22,  26,  30,  34,  38,  42,  46,  50,  54,  58,  62,\n",
       "        66,  70,  74,  78,  82,  86,  90,  94,  98, 102, 106])>"
      ]
     },
     "execution_count": 24,
     "metadata": {},
     "output_type": "execute_result"
    }
   ],
   "source": [
    "y= X+10\n",
    "y"
   ]
  },
  {
   "cell_type": "code",
   "execution_count": 25,
   "metadata": {},
   "outputs": [
    {
     "data": {
      "text/plain": [
       "<matplotlib.collections.PathCollection at 0x2f49a56a6b0>"
      ]
     },
     "execution_count": 25,
     "metadata": {},
     "output_type": "execute_result"
    },
    {
     "data": {
      "image/png": "[encoded data removed]",
      "text/plain": [
       "<Figure size 640x480 with 1 Axes>"
      ]
     },
     "metadata": {},
     "output_type": "display_data"
    }
   ],
   "source": [
    "#visualize the data\n",
    "plt.scatter(X,y)"
   ]
  },
  {
   "cell_type": "markdown",
   "metadata": {},
   "source": [
    "#### The 3 set...\n",
    "* **Training set**- the model learns from this data, which is typically 70-80% of the total data you have avaliable.\n",
    "* **Validation set**-the model gets tuned on this data, which is typically 10-15% of the data avaliable.\n",
    "* **Test set** - the model gets evaluated on this data to test what it has learned, this set is typically 10-15% of the total data avaliable."
   ]
  },
  {
   "cell_type": "code",
   "execution_count": 26,
   "metadata": {},
   "outputs": [
    {
     "data": {
      "text/plain": [
       "50"
      ]
     },
     "execution_count": 26,
     "metadata": {},
     "output_type": "execute_result"
    }
   ],
   "source": [
    "# check the length of how many samples we have\n",
    "\n",
    "len(X)"
   ]
  },
  {
   "cell_type": "code",
   "execution_count": 27,
   "metadata": {},
   "outputs": [
    {
     "data": {
      "text/plain": [
       "(40, 40, 10, 10)"
      ]
     },
     "execution_count": 27,
     "metadata": {},
     "output_type": "execute_result"
    }
   ],
   "source": [
    "# split the data into train and test set\n",
    "X_train=X[:40] #first 40 are training samples(80% of the data)\n",
    "y_train=y[:40]\n",
    "\n",
    "X_test=X[40:] #  last 10 are testing samples(20% of the data)\n",
    "y_test=y[40:]\n",
    "\n",
    "len(X_train),len(y_train),len(X_test),len(y_test)"
   ]
  },
  {
   "cell_type": "markdown",
   "metadata": {},
   "source": [
    "#### Visualising the data\n",
    "Now we've got our data in training and test sets .. let's visaulize it again!"
   ]
  },
  {
   "cell_type": "code",
   "execution_count": 28,
   "metadata": {},
   "outputs": [
    {
     "data": {
      "text/plain": [
       "<matplotlib.legend.Legend at 0x2f49b600580>"
      ]
     },
     "execution_count": 28,
     "metadata": {},
     "output_type": "execute_result"
    },
    {
     "data": {
      "image/png": "[encoded data removed]",
      "text/plain": [
       "<Figure size 1000x700 with 1 Axes>"
      ]
     },
     "metadata": {},
     "output_type": "display_data"
    }
   ],
   "source": [
    "plt.figure(figsize=(10,7))\n",
    "\n",
    "#plot training data in blue\n",
    "plt.scatter(X_train,y_train,c=\"b\",label=\"Training data\") #our model will learn on this\n",
    "\n",
    "#plot test data in green\n",
    "plt.scatter(X_test,y_test,c=\"g\",label=\"Testing data\") # want our model to be able to predict this(given X, what's y?)\n",
    "\n",
    "#show a legend\n",
    "plt.legend()"
   ]
  },
  {
   "cell_type": "code",
   "execution_count": 29,
   "metadata": {},
   "outputs": [],
   "source": [
    "#lets have a look at how to build a neural network for our data.\n",
    "\n",
    "#create a model\n",
    "\n",
    "model=tf.keras.Sequential([\n",
    "    tf.keras.layers.Dense(1)# dense means fully connected layer\n",
    "])\n",
    "\n",
    "# compiling our model\n",
    "model.compile(loss=\"mae\",optimizer=tf.keras.optimizers.SGD(),metrics=[\"mae\"])\n",
    "\n",
    "# fitting our model\n",
    "# model.fit(tf.expand_dims(X, axis=-1),y, epochs=100)\n",
    "\n",
    "# we can use model.build()\n",
    "model.build(input_shape=[None,1])\n"
   ]
  },
  {
   "cell_type": "markdown",
   "metadata": {},
   "source": [
    "#### Vsiaulizing the model"
   ]
  },
  {
   "cell_type": "code",
   "execution_count": 30,
   "metadata": {},
   "outputs": [
    {
     "name": "stdout",
     "output_type": "stream",
     "text": [
      "Model: \"sequential_6\"\n",
      "_________________________________________________________________\n",
      " Layer (type)                Output Shape              Param #   \n",
      "=================================================================\n",
      " dense_12 (Dense)            (None, 1)                 2         \n",
      "                                                                 \n",
      "=================================================================\n",
      "Total params: 2\n",
      "Trainable params: 2\n",
      "Non-trainable params: 0\n",
      "_________________________________________________________________\n"
     ]
    }
   ],
   "source": [
    "model.summary()"
   ]
  },
  {
   "cell_type": "code",
   "execution_count": 31,
   "metadata": {},
   "outputs": [],
   "source": [
    "#lets create a model which builds automatically by defining the input_shape arguement \n",
    "tf.random.set_seed(42)\n",
    "\n",
    "#create a model\n",
    "model = tf.keras.Sequential([\n",
    "    tf.keras.layers.Dense(1, input_shape=[1])\n",
    "])\n",
    "\n",
    "# compiling our model\n",
    "\n",
    "model.compile(loss='mae',optimizer='sgd',metrics=['mae'])"
   ]
  },
  {
   "cell_type": "code",
   "execution_count": 32,
   "metadata": {},
   "outputs": [
    {
     "name": "stdout",
     "output_type": "stream",
     "text": [
      "Model: \"sequential_7\"\n",
      "_________________________________________________________________\n",
      " Layer (type)                Output Shape              Param #   \n",
      "=================================================================\n",
      " dense_13 (Dense)            (None, 1)                 2         \n",
      "                                                                 \n",
      "=================================================================\n",
      "Total params: 2\n",
      "Trainable params: 2\n",
      "Non-trainable params: 0\n",
      "_________________________________________________________________\n"
     ]
    }
   ],
   "source": [
    "model.summary()"
   ]
  },
  {
   "cell_type": "markdown",
   "metadata": {},
   "source": [
    "* Total params - total number of parameters in the model\n",
    "* Trainable parametes = these are parameters(patters) the model can update as it trains\n",
    "* Non- trainable prarams - these parameters arent updated during training(this is typical when you bring in already learned patters and parameters from other models during **Transfer learning**.\n",
    "\n",
    "for more info on trainable parameters , check out MIT's introduction to deep learning.\n",
    "\n",
    "try playing around with the number of hidden units in dense layer, see how that effects the totl number of parameters(total and trainable) by calling model.summary()."
   ]
  },
  {
   "cell_type": "code",
   "execution_count": 33,
   "metadata": {},
   "outputs": [],
   "source": [
    "#lets create a model which builds automatically by defining the input_shape arguement \n",
    "tf.random.set_seed(42)\n",
    "\n",
    "#create a model\n",
    "model = tf.keras.Sequential([\n",
    "    tf.keras.layers.Dense(3, input_shape=[1])\n",
    "])\n",
    "\n",
    "# compiling our model\n",
    "\n",
    "model.compile(loss='mae',optimizer='sgd',metrics=['mae'])"
   ]
  },
  {
   "cell_type": "code",
   "execution_count": 34,
   "metadata": {},
   "outputs": [
    {
     "name": "stdout",
     "output_type": "stream",
     "text": [
      "Model: \"sequential_8\"\n",
      "_________________________________________________________________\n",
      " Layer (type)                Output Shape              Param #   \n",
      "=================================================================\n",
      " dense_14 (Dense)            (None, 3)                 6         \n",
      "                                                                 \n",
      "=================================================================\n",
      "Total params: 6\n",
      "Trainable params: 6\n",
      "Non-trainable params: 0\n",
      "_________________________________________________________________\n"
     ]
    }
   ],
   "source": [
    "model.summary()"
   ]
  },
  {
   "cell_type": "code",
   "execution_count": 35,
   "metadata": {},
   "outputs": [
    {
     "name": "stdout",
     "output_type": "stream",
     "text": [
      "Epoch 1/100\n",
      "2/2 [==============================] - 1s 5ms/step - loss: 33.7380 - mae: 33.7380\n",
      "Epoch 2/100\n",
      "2/2 [==============================] - 0s 3ms/step - loss: 27.6569 - mae: 27.6569\n",
      "Epoch 3/100\n",
      "2/2 [==============================] - 0s 6ms/step - loss: 23.3703 - mae: 23.3703\n",
      "Epoch 4/100\n",
      "2/2 [==============================] - 0s 3ms/step - loss: 19.1932 - mae: 19.1932\n",
      "Epoch 5/100\n",
      "2/2 [==============================] - 0s 4ms/step - loss: 15.5427 - mae: 15.5427\n",
      "Epoch 6/100\n",
      "2/2 [==============================] - 0s 6ms/step - loss: 11.4913 - mae: 11.4913\n",
      "Epoch 7/100\n",
      "2/2 [==============================] - 0s 15ms/step - loss: 9.1946 - mae: 9.1946\n",
      "Epoch 8/100\n",
      "2/2 [==============================] - 0s 8ms/step - loss: 7.7453 - mae: 7.7453\n",
      "Epoch 9/100\n",
      "2/2 [==============================] - 0s 6ms/step - loss: 8.7849 - mae: 8.7849\n",
      "Epoch 10/100\n",
      "2/2 [==============================] - 0s 9ms/step - loss: 8.6113 - mae: 8.6113\n",
      "Epoch 11/100\n",
      "2/2 [==============================] - 0s 5ms/step - loss: 7.8715 - mae: 7.8715\n",
      "Epoch 12/100\n",
      "2/2 [==============================] - 0s 8ms/step - loss: 7.7411 - mae: 7.7411\n",
      "Epoch 13/100\n",
      "2/2 [==============================] - 0s 7ms/step - loss: 8.0097 - mae: 8.0097\n",
      "Epoch 14/100\n",
      "2/2 [==============================] - 0s 13ms/step - loss: 8.0624 - mae: 8.0624\n",
      "Epoch 15/100\n",
      "2/2 [==============================] - 0s 4ms/step - loss: 8.5249 - mae: 8.5249\n",
      "Epoch 16/100\n",
      "2/2 [==============================] - 0s 14ms/step - loss: 7.6500 - mae: 7.6500\n",
      "Epoch 17/100\n",
      "2/2 [==============================] - 0s 5ms/step - loss: 7.5801 - mae: 7.5801\n",
      "Epoch 18/100\n",
      "2/2 [==============================] - 0s 9ms/step - loss: 8.7805 - mae: 8.7805\n",
      "Epoch 19/100\n",
      "2/2 [==============================] - 0s 10ms/step - loss: 9.8355 - mae: 9.8355\n",
      "Epoch 20/100\n",
      "2/2 [==============================] - 0s 13ms/step - loss: 8.0042 - mae: 8.0042\n",
      "Epoch 21/100\n",
      "2/2 [==============================] - 0s 6ms/step - loss: 8.5618 - mae: 8.5618\n",
      "Epoch 22/100\n",
      "2/2 [==============================] - 0s 10ms/step - loss: 8.5150 - mae: 8.5150\n",
      "Epoch 23/100\n",
      "2/2 [==============================] - 0s 7ms/step - loss: 7.6172 - mae: 7.6172\n",
      "Epoch 24/100\n",
      "2/2 [==============================] - 0s 5ms/step - loss: 8.6852 - mae: 8.6852\n",
      "Epoch 25/100\n",
      "2/2 [==============================] - 0s 6ms/step - loss: 8.3289 - mae: 8.3289\n",
      "Epoch 26/100\n",
      "2/2 [==============================] - 0s 4ms/step - loss: 8.0218 - mae: 8.0218\n",
      "Epoch 27/100\n",
      "2/2 [==============================] - 0s 9ms/step - loss: 8.3488 - mae: 8.3488\n",
      "Epoch 28/100\n",
      "2/2 [==============================] - 0s 9ms/step - loss: 8.0873 - mae: 8.0873\n",
      "Epoch 29/100\n",
      "2/2 [==============================] - 0s 7ms/step - loss: 7.9332 - mae: 7.9332\n",
      "Epoch 30/100\n",
      "2/2 [==============================] - 0s 13ms/step - loss: 10.4997 - mae: 10.4997\n",
      "Epoch 31/100\n",
      "2/2 [==============================] - 0s 5ms/step - loss: 10.4823 - mae: 10.4823\n",
      "Epoch 32/100\n",
      "2/2 [==============================] - 0s 21ms/step - loss: 7.5063 - mae: 7.5063\n",
      "Epoch 33/100\n",
      "2/2 [==============================] - 0s 6ms/step - loss: 7.7788 - mae: 7.7788\n",
      "Epoch 34/100\n",
      "2/2 [==============================] - 0s 9ms/step - loss: 9.0118 - mae: 9.0118\n",
      "Epoch 35/100\n",
      "2/2 [==============================] - 0s 8ms/step - loss: 8.0834 - mae: 8.0834\n",
      "Epoch 36/100\n",
      "2/2 [==============================] - 0s 10ms/step - loss: 9.5331 - mae: 9.5331\n",
      "Epoch 37/100\n",
      "2/2 [==============================] - 0s 10ms/step - loss: 7.8978 - mae: 7.8978\n",
      "Epoch 38/100\n",
      "2/2 [==============================] - 0s 8ms/step - loss: 7.9255 - mae: 7.9255\n",
      "Epoch 39/100\n",
      "2/2 [==============================] - 0s 10ms/step - loss: 8.8392 - mae: 8.8392\n",
      "Epoch 40/100\n",
      "2/2 [==============================] - 0s 9ms/step - loss: 8.8924 - mae: 8.8924\n",
      "Epoch 41/100\n",
      "2/2 [==============================] - 0s 8ms/step - loss: 7.4848 - mae: 7.4848\n",
      "Epoch 42/100\n",
      "2/2 [==============================] - 0s 8ms/step - loss: 7.5374 - mae: 7.5374\n",
      "Epoch 43/100\n",
      "2/2 [==============================] - 0s 7ms/step - loss: 7.5496 - mae: 7.5496\n",
      "Epoch 44/100\n",
      "2/2 [==============================] - 0s 4ms/step - loss: 8.3623 - mae: 8.3623\n",
      "Epoch 45/100\n",
      "2/2 [==============================] - 0s 5ms/step - loss: 8.9539 - mae: 8.9539\n",
      "Epoch 46/100\n",
      "2/2 [==============================] - 0s 4ms/step - loss: 8.2797 - mae: 8.2797\n",
      "Epoch 47/100\n",
      "2/2 [==============================] - 0s 8ms/step - loss: 7.6011 - mae: 7.6011\n",
      "Epoch 48/100\n",
      "2/2 [==============================] - 0s 10ms/step - loss: 7.7400 - mae: 7.7400\n",
      "Epoch 49/100\n",
      "2/2 [==============================] - 0s 5ms/step - loss: 7.4231 - mae: 7.4231\n",
      "Epoch 50/100\n",
      "2/2 [==============================] - 0s 5ms/step - loss: 8.3429 - mae: 8.3429\n",
      "Epoch 51/100\n",
      "2/2 [==============================] - 0s 3ms/step - loss: 7.9742 - mae: 7.9742\n",
      "Epoch 52/100\n",
      "2/2 [==============================] - 0s 11ms/step - loss: 8.4179 - mae: 8.4179\n",
      "Epoch 53/100\n",
      "2/2 [==============================] - 0s 5ms/step - loss: 9.1024 - mae: 9.1024\n",
      "Epoch 54/100\n",
      "2/2 [==============================] - 0s 5ms/step - loss: 7.5935 - mae: 7.5935\n",
      "Epoch 55/100\n",
      "2/2 [==============================] - 0s 15ms/step - loss: 8.3444 - mae: 8.3444\n",
      "Epoch 56/100\n",
      "2/2 [==============================] - 0s 10ms/step - loss: 8.0079 - mae: 8.0079\n",
      "Epoch 57/100\n",
      "2/2 [==============================] - 0s 6ms/step - loss: 8.7491 - mae: 8.7491\n",
      "Epoch 58/100\n",
      "2/2 [==============================] - 0s 6ms/step - loss: 7.9358 - mae: 7.9358\n",
      "Epoch 59/100\n",
      "2/2 [==============================] - 0s 4ms/step - loss: 7.4870 - mae: 7.4870\n",
      "Epoch 60/100\n",
      "2/2 [==============================] - 0s 5ms/step - loss: 8.1763 - mae: 8.1763\n",
      "Epoch 61/100\n",
      "2/2 [==============================] - 0s 5ms/step - loss: 8.0681 - mae: 8.0681\n",
      "Epoch 62/100\n",
      "2/2 [==============================] - 0s 6ms/step - loss: 8.0109 - mae: 8.0109\n",
      "Epoch 63/100\n",
      "2/2 [==============================] - 0s 7ms/step - loss: 8.1848 - mae: 8.1848\n",
      "Epoch 64/100\n",
      "2/2 [==============================] - 0s 6ms/step - loss: 9.0498 - mae: 9.0498\n",
      "Epoch 65/100\n",
      "2/2 [==============================] - 0s 4ms/step - loss: 8.4136 - mae: 8.4136\n",
      "Epoch 66/100\n",
      "2/2 [==============================] - 0s 5ms/step - loss: 8.1525 - mae: 8.1525\n",
      "Epoch 67/100\n",
      "2/2 [==============================] - 0s 6ms/step - loss: 7.5171 - mae: 7.5171\n",
      "Epoch 68/100\n",
      "2/2 [==============================] - 0s 4ms/step - loss: 8.1345 - mae: 8.1345\n",
      "Epoch 69/100\n",
      "2/2 [==============================] - 0s 12ms/step - loss: 8.6040 - mae: 8.6040\n",
      "Epoch 70/100\n",
      "2/2 [==============================] - 0s 6ms/step - loss: 7.5231 - mae: 7.5231\n",
      "Epoch 71/100\n",
      "2/2 [==============================] - 0s 5ms/step - loss: 8.9942 - mae: 8.9942\n",
      "Epoch 72/100\n",
      "2/2 [==============================] - 0s 5ms/step - loss: 7.8101 - mae: 7.8101\n",
      "Epoch 73/100\n",
      "2/2 [==============================] - 0s 7ms/step - loss: 7.9512 - mae: 7.9512\n",
      "Epoch 74/100\n",
      "2/2 [==============================] - 0s 7ms/step - loss: 8.9592 - mae: 8.9592\n",
      "Epoch 75/100\n",
      "2/2 [==============================] - 0s 6ms/step - loss: 7.6335 - mae: 7.6335\n",
      "Epoch 76/100\n",
      "2/2 [==============================] - 0s 5ms/step - loss: 7.4728 - mae: 7.4728\n",
      "Epoch 77/100\n",
      "2/2 [==============================] - 0s 7ms/step - loss: 8.0077 - mae: 8.0077\n",
      "Epoch 78/100\n",
      "2/2 [==============================] - 0s 6ms/step - loss: 7.4783 - mae: 7.4783\n",
      "Epoch 79/100\n",
      "2/2 [==============================] - 0s 5ms/step - loss: 8.3211 - mae: 8.3211\n",
      "Epoch 80/100\n",
      "2/2 [==============================] - 0s 8ms/step - loss: 7.8276 - mae: 7.8276\n",
      "Epoch 81/100\n",
      "2/2 [==============================] - 0s 9ms/step - loss: 7.7863 - mae: 7.7863\n",
      "Epoch 82/100\n",
      "2/2 [==============================] - 0s 7ms/step - loss: 8.0641 - mae: 8.0641\n",
      "Epoch 83/100\n",
      "2/2 [==============================] - 0s 9ms/step - loss: 7.3972 - mae: 7.3972\n",
      "Epoch 84/100\n",
      "2/2 [==============================] - 0s 10ms/step - loss: 7.4096 - mae: 7.4096\n",
      "Epoch 85/100\n",
      "2/2 [==============================] - 0s 7ms/step - loss: 8.5655 - mae: 8.5655\n",
      "Epoch 86/100\n",
      "2/2 [==============================] - 0s 16ms/step - loss: 7.9715 - mae: 7.9715\n",
      "Epoch 87/100\n",
      "2/2 [==============================] - 0s 9ms/step - loss: 7.6128 - mae: 7.6128\n",
      "Epoch 88/100\n",
      "2/2 [==============================] - 0s 10ms/step - loss: 9.6432 - mae: 9.6432\n",
      "Epoch 89/100\n",
      "2/2 [==============================] - 0s 5ms/step - loss: 7.4011 - mae: 7.4011\n",
      "Epoch 90/100\n",
      "2/2 [==============================] - 0s 6ms/step - loss: 8.1111 - mae: 8.1111\n",
      "Epoch 91/100\n",
      "2/2 [==============================] - 0s 5ms/step - loss: 7.7713 - mae: 7.7713\n",
      "Epoch 92/100\n",
      "2/2 [==============================] - 0s 5ms/step - loss: 8.0102 - mae: 8.0102\n",
      "Epoch 93/100\n",
      "2/2 [==============================] - 0s 7ms/step - loss: 7.8553 - mae: 7.8553\n",
      "Epoch 94/100\n",
      "2/2 [==============================] - 0s 4ms/step - loss: 8.0338 - mae: 8.0338\n",
      "Epoch 95/100\n",
      "2/2 [==============================] - 0s 4ms/step - loss: 8.0956 - mae: 8.0956\n",
      "Epoch 96/100\n",
      "2/2 [==============================] - 0s 4ms/step - loss: 7.6217 - mae: 7.6217\n",
      "Epoch 97/100\n",
      "2/2 [==============================] - 0s 4ms/step - loss: 9.1202 - mae: 9.1202\n",
      "Epoch 98/100\n",
      "2/2 [==============================] - 0s 5ms/step - loss: 7.3053 - mae: 7.3053\n",
      "Epoch 99/100\n",
      "2/2 [==============================] - 0s 9ms/step - loss: 7.5787 - mae: 7.5787\n",
      "Epoch 100/100\n",
      "2/2 [==============================] - 0s 6ms/step - loss: 7.8328 - mae: 7.8328\n"
     ]
    },
    {
     "data": {
      "text/plain": [
       "<keras.callbacks.History at 0x2f49b626e90>"
      ]
     },
     "execution_count": 35,
     "metadata": {},
     "output_type": "execute_result"
    }
   ],
   "source": [
    "#lets fir our model to the traing data\n",
    "model.fit(tf.expand_dims(X_train,axis=-1),y_train, epochs=100,verbose=1)\n",
    "\n",
    "#verbose can be 0,1,2 by default it is 1"
   ]
  },
  {
   "cell_type": "code",
   "execution_count": 36,
   "metadata": {},
   "outputs": [],
   "source": [
    "import pydot\n",
    "from tensorflow.keras.utils import plot_model\n",
    "\n"
   ]
  },
  {
   "cell_type": "code",
   "execution_count": 37,
   "metadata": {},
   "outputs": [
    {
     "data": {
      "image/png": "[encoded data removed]",
      "text/plain": [
       "<IPython.core.display.Image object>"
      ]
     },
     "execution_count": 37,
     "metadata": {},
     "output_type": "execute_result"
    }
   ],
   "source": [
    "plot_model(model=model)"
   ]
  },
  {
   "cell_type": "code",
   "execution_count": 38,
   "metadata": {},
   "outputs": [
    {
     "data": {
      "image/png": "[encoded data removed]",
      "text/plain": [
       "<IPython.core.display.Image object>"
      ]
     },
     "execution_count": 38,
     "metadata": {},
     "output_type": "execute_result"
    }
   ],
   "source": [
    "plot_model(model=model,show_shapes=True)"
   ]
  },
  {
   "cell_type": "code",
   "execution_count": 39,
   "metadata": {},
   "outputs": [
    {
     "name": "stdout",
     "output_type": "stream",
     "text": [
      "Epoch 1/100\n",
      "2/2 [==============================] - 1s 6ms/step - loss: 50.6465 - mae: 50.6465\n",
      "Epoch 2/100\n",
      "2/2 [==============================] - 0s 10ms/step - loss: 24.9371 - mae: 24.9371\n",
      "Epoch 3/100\n",
      "2/2 [==============================] - 0s 9ms/step - loss: 18.0285 - mae: 18.0285\n",
      "Epoch 4/100\n",
      "2/2 [==============================] - 0s 6ms/step - loss: 13.2128 - mae: 13.2128\n",
      "Epoch 5/100\n",
      "2/2 [==============================] - 0s 4ms/step - loss: 14.5370 - mae: 14.5370\n",
      "Epoch 6/100\n",
      "2/2 [==============================] - 0s 5ms/step - loss: 11.5862 - mae: 11.5862\n",
      "Epoch 7/100\n",
      "2/2 [==============================] - 0s 6ms/step - loss: 12.6320 - mae: 12.6320\n",
      "Epoch 8/100\n",
      "2/2 [==============================] - 0s 9ms/step - loss: 11.0199 - mae: 11.0199\n",
      "Epoch 9/100\n",
      "2/2 [==============================] - 0s 9ms/step - loss: 39.5371 - mae: 39.5371\n",
      "Epoch 10/100\n",
      "2/2 [==============================] - 0s 8ms/step - loss: 27.0501 - mae: 27.0501\n",
      "Epoch 11/100\n",
      "2/2 [==============================] - 0s 9ms/step - loss: 11.0348 - mae: 11.0348\n",
      "Epoch 12/100\n",
      "2/2 [==============================] - 0s 3ms/step - loss: 24.4575 - mae: 24.4575\n",
      "Epoch 13/100\n",
      "2/2 [==============================] - 0s 5ms/step - loss: 19.2001 - mae: 19.2001\n",
      "Epoch 14/100\n",
      "2/2 [==============================] - 0s 4ms/step - loss: 23.3996 - mae: 23.3996\n",
      "Epoch 15/100\n",
      "2/2 [==============================] - 0s 4ms/step - loss: 15.2210 - mae: 15.2210\n",
      "Epoch 16/100\n",
      "2/2 [==============================] - 0s 4ms/step - loss: 11.3402 - mae: 11.3402\n",
      "Epoch 17/100\n",
      "2/2 [==============================] - 0s 7ms/step - loss: 23.1372 - mae: 23.1372\n",
      "Epoch 18/100\n",
      "2/2 [==============================] - 0s 5ms/step - loss: 11.7571 - mae: 11.7571\n",
      "Epoch 19/100\n",
      "2/2 [==============================] - 0s 4ms/step - loss: 16.4268 - mae: 16.4268\n",
      "Epoch 20/100\n",
      "2/2 [==============================] - 0s 4ms/step - loss: 8.2473 - mae: 8.2473\n",
      "Epoch 21/100\n",
      "2/2 [==============================] - 0s 8ms/step - loss: 14.4422 - mae: 14.4422\n",
      "Epoch 22/100\n",
      "2/2 [==============================] - 0s 7ms/step - loss: 12.8583 - mae: 12.8583\n",
      "Epoch 23/100\n",
      "2/2 [==============================] - 0s 3ms/step - loss: 15.4933 - mae: 15.4933\n",
      "Epoch 24/100\n",
      "2/2 [==============================] - 0s 5ms/step - loss: 15.2831 - mae: 15.2831\n",
      "Epoch 25/100\n",
      "2/2 [==============================] - 0s 5ms/step - loss: 14.3512 - mae: 14.3512\n",
      "Epoch 26/100\n",
      "2/2 [==============================] - 0s 9ms/step - loss: 19.3645 - mae: 19.3645\n",
      "Epoch 27/100\n",
      "2/2 [==============================] - 0s 7ms/step - loss: 11.4441 - mae: 11.4441\n",
      "Epoch 28/100\n",
      "2/2 [==============================] - 0s 4ms/step - loss: 29.0356 - mae: 29.0356\n",
      "Epoch 29/100\n",
      "2/2 [==============================] - 0s 6ms/step - loss: 9.2522 - mae: 9.2522\n",
      "Epoch 30/100\n",
      "2/2 [==============================] - 0s 4ms/step - loss: 29.7839 - mae: 29.7839\n",
      "Epoch 31/100\n",
      "2/2 [==============================] - 0s 8ms/step - loss: 54.0372 - mae: 54.0372\n",
      "Epoch 32/100\n",
      "2/2 [==============================] - 0s 8ms/step - loss: 9.5597 - mae: 9.5597\n",
      "Epoch 33/100\n",
      "2/2 [==============================] - 0s 9ms/step - loss: 12.1494 - mae: 12.1494\n",
      "Epoch 34/100\n",
      "2/2 [==============================] - 0s 8ms/step - loss: 23.8382 - mae: 23.8382\n",
      "Epoch 35/100\n",
      "2/2 [==============================] - 0s 4ms/step - loss: 12.6335 - mae: 12.6335\n",
      "Epoch 36/100\n",
      "2/2 [==============================] - 0s 4ms/step - loss: 21.5562 - mae: 21.5562\n",
      "Epoch 37/100\n",
      "2/2 [==============================] - 0s 5ms/step - loss: 11.3584 - mae: 11.3584\n",
      "Epoch 38/100\n",
      "2/2 [==============================] - 0s 5ms/step - loss: 13.4270 - mae: 13.4270\n",
      "Epoch 39/100\n",
      "2/2 [==============================] - 0s 5ms/step - loss: 10.7732 - mae: 10.7732\n",
      "Epoch 40/100\n",
      "2/2 [==============================] - 0s 6ms/step - loss: 16.5439 - mae: 16.5439\n",
      "Epoch 41/100\n",
      "2/2 [==============================] - 0s 5ms/step - loss: 10.9477 - mae: 10.9477\n",
      "Epoch 42/100\n",
      "2/2 [==============================] - 0s 4ms/step - loss: 9.2818 - mae: 9.2818\n",
      "Epoch 43/100\n",
      "2/2 [==============================] - 0s 4ms/step - loss: 9.5882 - mae: 9.5882\n",
      "Epoch 44/100\n",
      "2/2 [==============================] - 0s 8ms/step - loss: 27.9133 - mae: 27.9133\n",
      "Epoch 45/100\n",
      "2/2 [==============================] - 0s 9ms/step - loss: 11.2649 - mae: 11.2649\n",
      "Epoch 46/100\n",
      "2/2 [==============================] - 0s 8ms/step - loss: 13.8602 - mae: 13.8602\n",
      "Epoch 47/100\n",
      "2/2 [==============================] - 0s 5ms/step - loss: 11.9212 - mae: 11.9212\n",
      "Epoch 48/100\n",
      "2/2 [==============================] - 0s 6ms/step - loss: 16.9547 - mae: 16.9547\n",
      "Epoch 49/100\n",
      "2/2 [==============================] - 0s 6ms/step - loss: 9.7760 - mae: 9.7760\n",
      "Epoch 50/100\n",
      "2/2 [==============================] - 0s 9ms/step - loss: 14.1693 - mae: 14.1693\n",
      "Epoch 51/100\n",
      "2/2 [==============================] - 0s 4ms/step - loss: 11.7378 - mae: 11.7378\n",
      "Epoch 52/100\n",
      "2/2 [==============================] - 0s 3ms/step - loss: 31.3896 - mae: 31.3896\n",
      "Epoch 53/100\n",
      "2/2 [==============================] - 0s 4ms/step - loss: 14.7263 - mae: 14.7263\n",
      "Epoch 54/100\n",
      "2/2 [==============================] - 0s 4ms/step - loss: 24.6170 - mae: 24.6170\n",
      "Epoch 55/100\n",
      "2/2 [==============================] - 0s 5ms/step - loss: 23.9007 - mae: 23.9007\n",
      "Epoch 56/100\n",
      "2/2 [==============================] - 0s 8ms/step - loss: 11.1233 - mae: 11.1233\n",
      "Epoch 57/100\n",
      "2/2 [==============================] - 0s 10ms/step - loss: 13.0631 - mae: 13.0631\n",
      "Epoch 58/100\n",
      "2/2 [==============================] - 0s 5ms/step - loss: 9.7829 - mae: 9.7829\n",
      "Epoch 59/100\n",
      "2/2 [==============================] - 0s 4ms/step - loss: 13.2428 - mae: 13.2428\n",
      "Epoch 60/100\n",
      "2/2 [==============================] - 0s 3ms/step - loss: 10.8365 - mae: 10.8365\n",
      "Epoch 61/100\n",
      "2/2 [==============================] - 0s 7ms/step - loss: 13.4199 - mae: 13.4199\n",
      "Epoch 62/100\n",
      "2/2 [==============================] - 0s 12ms/step - loss: 17.3939 - mae: 17.3939\n",
      "Epoch 63/100\n",
      "2/2 [==============================] - 0s 8ms/step - loss: 9.1399 - mae: 9.1399\n",
      "Epoch 64/100\n",
      "2/2 [==============================] - 0s 6ms/step - loss: 18.2679 - mae: 18.2679\n",
      "Epoch 65/100\n",
      "2/2 [==============================] - 0s 5ms/step - loss: 10.0949 - mae: 10.0949\n",
      "Epoch 66/100\n",
      "2/2 [==============================] - 0s 33ms/step - loss: 24.1035 - mae: 24.1035\n",
      "Epoch 67/100\n",
      "2/2 [==============================] - 0s 5ms/step - loss: 10.8465 - mae: 10.8465\n",
      "Epoch 68/100\n",
      "2/2 [==============================] - 0s 6ms/step - loss: 10.7410 - mae: 10.7410\n",
      "Epoch 69/100\n",
      "2/2 [==============================] - 0s 6ms/step - loss: 23.0763 - mae: 23.0763\n",
      "Epoch 70/100\n",
      "2/2 [==============================] - 0s 7ms/step - loss: 8.8465 - mae: 8.8465\n",
      "Epoch 71/100\n",
      "2/2 [==============================] - 0s 6ms/step - loss: 16.0774 - mae: 16.0774\n",
      "Epoch 72/100\n",
      "2/2 [==============================] - 0s 12ms/step - loss: 7.7624 - mae: 7.7624\n",
      "Epoch 73/100\n",
      "2/2 [==============================] - 0s 42ms/step - loss: 10.1627 - mae: 10.1627\n",
      "Epoch 74/100\n",
      "2/2 [==============================] - 0s 12ms/step - loss: 28.3472 - mae: 28.3472\n",
      "Epoch 75/100\n",
      "2/2 [==============================] - 0s 10ms/step - loss: 9.9973 - mae: 9.9973\n",
      "Epoch 76/100\n",
      "2/2 [==============================] - 0s 30ms/step - loss: 12.9104 - mae: 12.9104\n",
      "Epoch 77/100\n",
      "2/2 [==============================] - 0s 7ms/step - loss: 17.8487 - mae: 17.8487\n",
      "Epoch 78/100\n",
      "2/2 [==============================] - 0s 11ms/step - loss: 8.9624 - mae: 8.9624\n",
      "Epoch 79/100\n",
      "2/2 [==============================] - 0s 4ms/step - loss: 28.6627 - mae: 28.6627\n",
      "Epoch 80/100\n",
      "2/2 [==============================] - 0s 13ms/step - loss: 30.9915 - mae: 30.9915\n",
      "Epoch 81/100\n",
      "2/2 [==============================] - 0s 15ms/step - loss: 13.3825 - mae: 13.3825\n",
      "Epoch 82/100\n",
      "2/2 [==============================] - 0s 6ms/step - loss: 14.5292 - mae: 14.5292\n",
      "Epoch 83/100\n",
      "2/2 [==============================] - 0s 10ms/step - loss: 18.5533 - mae: 18.5533\n",
      "Epoch 84/100\n",
      "2/2 [==============================] - 0s 8ms/step - loss: 8.8205 - mae: 8.8205\n",
      "Epoch 85/100\n",
      "2/2 [==============================] - 0s 6ms/step - loss: 18.4299 - mae: 18.4299\n",
      "Epoch 86/100\n",
      "2/2 [==============================] - 0s 32ms/step - loss: 22.5244 - mae: 22.5244\n",
      "Epoch 87/100\n",
      "2/2 [==============================] - 0s 8ms/step - loss: 11.3665 - mae: 11.3665\n",
      "Epoch 88/100\n",
      "2/2 [==============================] - 0s 11ms/step - loss: 26.5440 - mae: 26.5440\n",
      "Epoch 89/100\n",
      "2/2 [==============================] - 0s 8ms/step - loss: 9.6533 - mae: 9.6533\n",
      "Epoch 90/100\n",
      "2/2 [==============================] - 0s 8ms/step - loss: 18.7043 - mae: 18.7043\n",
      "Epoch 91/100\n",
      "2/2 [==============================] - 0s 9ms/step - loss: 10.4849 - mae: 10.4849\n",
      "Epoch 92/100\n",
      "2/2 [==============================] - 0s 6ms/step - loss: 17.9318 - mae: 17.9318\n",
      "Epoch 93/100\n",
      "2/2 [==============================] - 0s 8ms/step - loss: 6.5934 - mae: 6.5934\n",
      "Epoch 94/100\n",
      "2/2 [==============================] - 0s 6ms/step - loss: 11.1319 - mae: 11.1319\n",
      "Epoch 95/100\n",
      "2/2 [==============================] - 0s 6ms/step - loss: 24.2605 - mae: 24.2605\n",
      "Epoch 96/100\n",
      "2/2 [==============================] - 0s 4ms/step - loss: 10.7360 - mae: 10.7360\n",
      "Epoch 97/100\n",
      "2/2 [==============================] - 0s 3ms/step - loss: 15.2926 - mae: 15.2926\n",
      "Epoch 98/100\n",
      "2/2 [==============================] - 0s 8ms/step - loss: 8.2584 - mae: 8.2584\n",
      "Epoch 99/100\n",
      "2/2 [==============================] - 0s 6ms/step - loss: 16.4515 - mae: 16.4515\n",
      "Epoch 100/100\n",
      "2/2 [==============================] - 0s 7ms/step - loss: 13.8681 - mae: 13.8681\n"
     ]
    },
    {
     "data": {
      "text/plain": [
       "<keras.callbacks.History at 0x2f49b914100>"
      ]
     },
     "execution_count": 39,
     "metadata": {},
     "output_type": "execute_result"
    }
   ],
   "source": [
    "tf.random.set_seed(42)\n",
    "\n",
    "#create a model\n",
    "model = tf.keras.Sequential([\n",
    "    tf.keras.layers.Dense(5, input_shape=[1],name=\"input_layer\"),\n",
    "    tf.keras.layers.Dense(1,name=\"output_layer\")\n",
    "],name=\"model_1\")\n",
    "\n",
    "# compiling our model\n",
    "\n",
    "model.compile(loss='mae',optimizer='sgd',metrics=['mae'])\n",
    "\n",
    "#lets fir our model to the traing data\n",
    "model.fit(tf.expand_dims(X_train,axis=-1),y_train, epochs=100,verbose=1)"
   ]
  },
  {
   "cell_type": "code",
   "execution_count": 40,
   "metadata": {},
   "outputs": [
    {
     "name": "stdout",
     "output_type": "stream",
     "text": [
      "Model: \"model_1\"\n",
      "_________________________________________________________________\n",
      " Layer (type)                Output Shape              Param #   \n",
      "=================================================================\n",
      " input_layer (Dense)         (None, 5)                 10        \n",
      "                                                                 \n",
      " output_layer (Dense)        (None, 1)                 6         \n",
      "                                                                 \n",
      "=================================================================\n",
      "Total params: 16\n",
      "Trainable params: 16\n",
      "Non-trainable params: 0\n",
      "_________________________________________________________________\n"
     ]
    }
   ],
   "source": [
    "model.summary()"
   ]
  },
  {
   "cell_type": "code",
   "execution_count": 41,
   "metadata": {},
   "outputs": [
    {
     "data": {
      "image/png": "[encoded data removed]",
      "text/plain": [
       "<IPython.core.display.Image object>"
      ]
     },
     "execution_count": 41,
     "metadata": {},
     "output_type": "execute_result"
    }
   ],
   "source": [
    "plot_model(model=model,show_shapes=True)"
   ]
  },
  {
   "cell_type": "markdown",
   "metadata": {},
   "source": [
    "### Visualizing the prediction\n",
    "* To visualize predictions, it's good idea to plot them against the ground truth labels.\n",
    "* often you'll see this in form of y_test or y_true versus y_pred(ground truth versus your model's prediction)"
   ]
  },
  {
   "cell_type": "code",
   "execution_count": 42,
   "metadata": {},
   "outputs": [
    {
     "name": "stdout",
     "output_type": "stream",
     "text": [
      "1/1 [==============================] - 0s 70ms/step\n"
     ]
    },
    {
     "data": {
      "text/plain": [
       "array([[ 81.62511 ],\n",
       "       [ 86.95203 ],\n",
       "       [ 92.27894 ],\n",
       "       [ 97.60585 ],\n",
       "       [102.93276 ],\n",
       "       [108.25968 ],\n",
       "       [113.586586],\n",
       "       [118.9135  ],\n",
       "       [124.24041 ],\n",
       "       [129.56732 ]], dtype=float32)"
      ]
     },
     "execution_count": 42,
     "metadata": {},
     "output_type": "execute_result"
    }
   ],
   "source": [
    "#make some predictions\n",
    "y_pred=model.predict(X_test)\n",
    "y_pred"
   ]
  },
  {
   "cell_type": "code",
   "execution_count": 43,
   "metadata": {},
   "outputs": [
    {
     "data": {
      "text/plain": [
       "<tf.Tensor: shape=(10,), dtype=int32, numpy=array([ 70,  74,  78,  82,  86,  90,  94,  98, 102, 106])>"
      ]
     },
     "execution_count": 43,
     "metadata": {},
     "output_type": "execute_result"
    }
   ],
   "source": [
    "y_test"
   ]
  },
  {
   "cell_type": "markdown",
   "metadata": {},
   "source": [
    "**Note**: if you feel like you are going to reuse some kind of functionality in future, its a good idea to turn it into functions. "
   ]
  },
  {
   "cell_type": "code",
   "execution_count": 46,
   "metadata": {},
   "outputs": [],
   "source": [
    "#lets create a plotting function\n",
    "def plot_predictions(train_data=X_train,train_labels=y_train,test_data=X_test,test_labels=y_test,predictions=y_pred):\n",
    "    '''plot training data, test data and compare predictions to ground truth labels'''\n",
    "    plt.figure(figsize=(10,7))\n",
    "    #plot training data in blue\n",
    "    plt.scatter(train_data, train_labels,c='b',label='training data')\n",
    "    #plot testing data in green\n",
    "    plt.scatter(test_data, test_labels,c='g',label='test data')\n",
    "    #plot model's predictions in red\n",
    "    plt.scatter(test_data, predictions,c='r',label='predictions')\n",
    "    #show legends()\n",
    "    plt.legend()"
   ]
  },
  {
   "cell_type": "code",
   "execution_count": 47,
   "metadata": {},
   "outputs": [
    {
     "data": {
      "image/png": "[encoded data removed]",
      "text/plain": [
       "<Figure size 1000x700 with 1 Axes>"
      ]
     },
     "metadata": {},
     "output_type": "display_data"
    }
   ],
   "source": [
    "plot_predictions()"
   ]
  },
  {
   "cell_type": "markdown",
   "metadata": {},
   "source": [
    "### Evaluating our models prediction with regression evaluation metrics\n",
    "* Depending on the problem you are working on, there will be different evaluation metrics to evaluate your model's performance. \n",
    "\n",
    "* Since we are working on a regression, two of the main metrics:\n",
    "    1. MAE- mean absolute error, \"on average , how wrong is each of my model's prediction\n",
    "    2. MSE= mean squared error,\"square the averageerrors\""
   ]
  },
  {
   "cell_type": "code",
   "execution_count": 48,
   "metadata": {},
   "outputs": [
    {
     "name": "stdout",
     "output_type": "stream",
     "text": [
      "1/1 [==============================] - 1s 1s/step - loss: 17.5962 - mae: 17.5962\n"
     ]
    },
    {
     "data": {
      "text/plain": [
       "[17.59621810913086, 17.59621810913086]"
      ]
     },
     "execution_count": 48,
     "metadata": {},
     "output_type": "execute_result"
    }
   ],
   "source": [
    "# Evaluate the model on the test\n",
    "model.evaluate(X_test, y_test)"
   ]
  },
  {
   "cell_type": "code",
   "execution_count": null,
   "metadata": {},
   "outputs": [],
   "source": []
  }
 ],
 "metadata": {
  "kernelspec": {
   "display_name": "Python 3.10.6 64-bit",
   "language": "python",
   "name": "python3"
  },
  "language_info": {
   "codemirror_mode": {
    "name": "ipython",
    "version": 3
   },
   "file_extension": ".py",
   "mimetype": "text/x-python",
   "name": "python",
   "nbconvert_exporter": "python",
   "pygments_lexer": "ipython3",
   "version": "3.10.6"
  },
  "orig_nbformat": 4,
  "vscode": {
   "interpreter": {
    "hash": "387a55f1e86e20fa8f00d1ae0aa2d5c1e5c7fc1faf446b56ecfd0491be0d2a5e"
   }
  }
 },
 "nbformat": 4,
 "nbformat_minor": 2
}
